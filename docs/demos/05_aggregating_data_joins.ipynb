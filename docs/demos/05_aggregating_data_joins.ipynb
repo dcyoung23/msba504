{
 "cells": [
  {
   "cell_type": "markdown",
   "id": "f33b2e0a-8b7a-4c83-b0a4-34b865e82bac",
   "metadata": {},
   "source": [
    "<h1 style=\"margin-bottom: 0.25rem;\">Aggregating Data and JOINs Demo</h1>"
   ]
  },
  {
   "cell_type": "markdown",
   "id": "e1a25e42-e7cc-484c-af02-4bd27eba3f63",
   "metadata": {},
   "source": [
    "<h2 style=\"margin-top: 1rem;\">Overview</h2>"
   ]
  },
  {
   "cell_type": "markdown",
   "id": "6c12bf8c-9f51-4bce-8ac2-61890690fe3b",
   "metadata": {},
   "source": [
    "In this demo, we will be using a small sample `employee` database courtesy of https://www.sqltutorial.org/ to get some hands-on practice with the concepts we learned in the `Intermediate_SQL` **Part 1** lecture. The database has been modified slightly to be consistent with the naming conventions we have been using so far in this course. You can find the SQL Sample Database [here](https://www.sqltutorial.org/sql-sample-database/) with downloads for a variety of database systems.\n",
    "\n",
    "If you are interested in working with a larger employee database, check out this resource [here](https://github.com/bytebase/employee-sample-database). There are MySQL, PostgreSQL, and SQLite versions of varying sizes.\n",
    "\n",
    "Download the resource files for this demo [here](https://drive.google.com/file/d/1Mf6WlF2be3u6wZf7GXqnMNM9yoaIUZIO/view?usp=sharing)."
   ]
  },
  {
   "cell_type": "markdown",
   "id": "0cc263a3-8317-43ac-b938-677674a3bfa0",
   "metadata": {},
   "source": [
    "### How is the data organized\n",
    "\n",
    "Below is the ERD for employee_small databases."
   ]
  },
  {
   "attachments": {},
   "cell_type": "markdown",
   "id": "628c584a-7db0-4b9b-b435-ba078b8a03fe",
   "metadata": {},
   "source": [
    "![employee_small_ERD](https://raw.githubusercontent.com/dcyoung23/msba504/main/docs/assets/screenshots/05_employee_small_ERD.png)"
   ]
  },
  {
   "cell_type": "markdown",
   "id": "03d02e36-3ffe-4925-ace9-7d5d48e0698f",
   "metadata": {},
   "source": [
    "## Load Database\n",
    "\n",
    "**NOTE: The `employee_small.db` file MUST be saved in the same folder location as this notebook on your computer.**"
   ]
  },
  {
   "cell_type": "code",
   "execution_count": 1,
   "id": "6a862def-834f-42f7-844f-617030df1eb1",
   "metadata": {},
   "outputs": [
    {
     "data": {
      "text/html": [
       "<span style=\"None\">Connecting to &#x27;sqlite:///employee_small.db&#x27;</span>"
      ],
      "text/plain": [
       "Connecting to 'sqlite:///employee_small.db'"
      ]
     },
     "metadata": {},
     "output_type": "display_data"
    }
   ],
   "source": [
    "import sqlite3\n",
    "\n",
    "%load_ext sql\n",
    "\n",
    "%sql sqlite:///employee_small.db"
   ]
  },
  {
   "cell_type": "markdown",
   "id": "c2066491-362c-4846-a3b7-5b3f8c27bc4f",
   "metadata": {},
   "source": [
    "**IMPORTANT:**  \n",
    "Every query that you write in a Jupyter Notebook cell must have the %%sql command directly above the `SELECT` statement."
   ]
  },
  {
   "cell_type": "markdown",
   "id": "9272aaa3-793e-4039-89bb-4019606b8a46",
   "metadata": {},
   "source": [
    "## Aggregate Functions"
   ]
  },
  {
   "cell_type": "markdown",
   "id": "599488f4-8688-4961-8500-1e74c021448e",
   "metadata": {},
   "source": [
    "#### Question 1\n",
    "\n",
    "Write a query that returns the total number of employees for the company.\n",
    "\n",
    "Include only calculated column `employee_cnt`.\n",
    "\n",
    "<h4 style=\"color:blue\"> Write Your Code Below: </h4>"
   ]
  },
  {
   "cell_type": "code",
   "execution_count": null,
   "id": "16b9b87d-09a7-44e0-9205-13e3cafe3eaa",
   "metadata": {},
   "outputs": [],
   "source": []
  },
  {
   "cell_type": "markdown",
   "id": "54b0f886-2370-4a40-a3d7-0cf70c7b36ef",
   "metadata": {},
   "source": [
    "<h3 style=\"color:teal\"> Expected Output: </h3>"
   ]
  },
  {
   "cell_type": "code",
   "execution_count": null,
   "id": "c7daca33-5cdb-4633-9f6c-0ac480d3e57f",
   "metadata": {},
   "outputs": [
    {
     "data": {
      "text/html": [
       "<span style=\"None\">Running query in &#x27;sqlite:///employee_small.db&#x27;</span>"
      ],
      "text/plain": [
       "Running query in 'sqlite:///employee_small.db'"
      ]
     },
     "metadata": {},
     "output_type": "display_data"
    },
    {
     "data": {
      "text/html": [
       "<table>\n",
       "    <thead>\n",
       "        <tr>\n",
       "            <th>employee_cnt</th>\n",
       "        </tr>\n",
       "    </thead>\n",
       "    <tbody>\n",
       "        <tr>\n",
       "            <td>40</td>\n",
       "        </tr>\n",
       "    </tbody>\n",
       "</table>"
      ],
      "text/plain": [
       "+--------------+\n",
       "| employee_cnt |\n",
       "+--------------+\n",
       "|      40      |\n",
       "+--------------+"
      ]
     },
     "execution_count": 2,
     "metadata": {},
     "output_type": "execute_result"
    }
   ],
   "source": []
  },
  {
   "cell_type": "markdown",
   "id": "22a81ef0-da4e-48d9-9787-ca94553a8ff8",
   "metadata": {},
   "source": [
    "Copy and paste the code into the `submission.yaml` file for Question 1."
   ]
  },
  {
   "cell_type": "markdown",
   "id": "b2cbd868-7df2-4943-a871-9854e3f2c793",
   "metadata": {},
   "source": [
    "#### Question 2\n",
    "\n",
    "Write a query that returns the minimum, maximum, and average salary for all employees in the company.\n",
    "\n",
    "Include calculated columns `salary_min`, `salary_max`, `salary_avg`.\n",
    "\n",
    "<h4 style=\"color:blue\"> Write Your Code Below: </h4>"
   ]
  },
  {
   "cell_type": "code",
   "execution_count": null,
   "id": "c27e091d-1084-4de7-9d58-22e323adcc69",
   "metadata": {},
   "outputs": [],
   "source": []
  },
  {
   "cell_type": "markdown",
   "id": "f6d29a05-ddef-40e2-92c7-3aec61e99193",
   "metadata": {},
   "source": [
    "<h3 style=\"color:teal\"> Expected Output: </h3>"
   ]
  },
  {
   "cell_type": "code",
   "execution_count": null,
   "id": "41cc7cc5-ffac-4e28-9269-237eca514ddb",
   "metadata": {},
   "outputs": [
    {
     "data": {
      "text/html": [
       "<span style=\"None\">Running query in &#x27;sqlite:///employee_small.db&#x27;</span>"
      ],
      "text/plain": [
       "Running query in 'sqlite:///employee_small.db'"
      ]
     },
     "metadata": {},
     "output_type": "display_data"
    },
    {
     "data": {
      "text/html": [
       "<table>\n",
       "    <thead>\n",
       "        <tr>\n",
       "            <th>salary_min</th>\n",
       "            <th>salary_max</th>\n",
       "            <th>salary_avg</th>\n",
       "        </tr>\n",
       "    </thead>\n",
       "    <tbody>\n",
       "        <tr>\n",
       "            <td>2500.0</td>\n",
       "            <td>24000.0</td>\n",
       "            <td>8060.0</td>\n",
       "        </tr>\n",
       "    </tbody>\n",
       "</table>"
      ],
      "text/plain": [
       "+------------+------------+------------+\n",
       "| salary_min | salary_max | salary_avg |\n",
       "+------------+------------+------------+\n",
       "|   2500.0   |  24000.0   |   8060.0   |\n",
       "+------------+------------+------------+"
      ]
     },
     "execution_count": 3,
     "metadata": {},
     "output_type": "execute_result"
    }
   ],
   "source": []
  },
  {
   "cell_type": "markdown",
   "id": "035da770-e9a4-451c-906a-9109f96e2d06",
   "metadata": {},
   "source": [
    "Copy and paste the code into the `submission.yaml` file for Question 2."
   ]
  },
  {
   "cell_type": "markdown",
   "id": "66d05ca8-0226-477f-89dd-af705a3493eb",
   "metadata": {},
   "source": [
    "## Grouping Data"
   ]
  },
  {
   "cell_type": "markdown",
   "id": "d034a33f-e86c-41f5-8a81-d7a6db62d1f2",
   "metadata": {},
   "source": [
    "#### Question 3\n",
    "\n",
    "Write a query that returns the minimum, maximum, and average salary in each department (**department_id**) and order the results by average salary in descending order. Round the average salary to 2 decimal places.\n",
    "\n",
    "Include columns `department_id` as well as calculated columns `dept_min_salary`, `dept_max_salary`, `dept_avg_salary`, `employee_cnt`.\n",
    "\n",
    "<h4 style=\"color:blue\"> Write Your Code Below: </h4>"
   ]
  },
  {
   "cell_type": "code",
   "execution_count": null,
   "id": "e36f39ee-21c6-4b47-9a69-fcdcc0f2c43d",
   "metadata": {},
   "outputs": [],
   "source": []
  },
  {
   "cell_type": "markdown",
   "id": "ddbdce20-b3cc-46d0-a99e-1c6cbe8d0720",
   "metadata": {},
   "source": [
    "<h3 style=\"color:teal\"> Expected Output: </h3>"
   ]
  },
  {
   "cell_type": "code",
   "execution_count": null,
   "id": "7debffb3-c704-490b-8a6f-1242e0cbb74c",
   "metadata": {},
   "outputs": [
    {
     "data": {
      "text/html": [
       "<span style=\"None\">Running query in &#x27;sqlite:///employee_small.db&#x27;</span>"
      ],
      "text/plain": [
       "Running query in 'sqlite:///employee_small.db'"
      ]
     },
     "metadata": {},
     "output_type": "display_data"
    },
    {
     "data": {
      "text/html": [
       "<table>\n",
       "    <thead>\n",
       "        <tr>\n",
       "            <th>department_id</th>\n",
       "            <th>dept_min_salary</th>\n",
       "            <th>dept_max_salary</th>\n",
       "            <th>dept_avg_salary</th>\n",
       "            <th>employee_cnt</th>\n",
       "        </tr>\n",
       "    </thead>\n",
       "    <tbody>\n",
       "        <tr>\n",
       "            <td>9</td>\n",
       "            <td>17000.0</td>\n",
       "            <td>24000.0</td>\n",
       "            <td>19333.33</td>\n",
       "            <td>3</td>\n",
       "        </tr>\n",
       "        <tr>\n",
       "            <td>11</td>\n",
       "            <td>8300.0</td>\n",
       "            <td>12000.0</td>\n",
       "            <td>10150.0</td>\n",
       "            <td>2</td>\n",
       "        </tr>\n",
       "        <tr>\n",
       "            <td>7</td>\n",
       "            <td>10000.0</td>\n",
       "            <td>10000.0</td>\n",
       "            <td>10000.0</td>\n",
       "            <td>1</td>\n",
       "        </tr>\n",
       "        <tr>\n",
       "            <td>8</td>\n",
       "            <td>6200.0</td>\n",
       "            <td>14000.0</td>\n",
       "            <td>9616.67</td>\n",
       "            <td>6</td>\n",
       "        </tr>\n",
       "        <tr>\n",
       "            <td>2</td>\n",
       "            <td>6000.0</td>\n",
       "            <td>13000.0</td>\n",
       "            <td>9500.0</td>\n",
       "            <td>2</td>\n",
       "        </tr>\n",
       "        <tr>\n",
       "            <td>10</td>\n",
       "            <td>6900.0</td>\n",
       "            <td>12000.0</td>\n",
       "            <td>8600.0</td>\n",
       "            <td>6</td>\n",
       "        </tr>\n",
       "        <tr>\n",
       "            <td>4</td>\n",
       "            <td>6500.0</td>\n",
       "            <td>6500.0</td>\n",
       "            <td>6500.0</td>\n",
       "            <td>1</td>\n",
       "        </tr>\n",
       "        <tr>\n",
       "            <td>5</td>\n",
       "            <td>2700.0</td>\n",
       "            <td>8200.0</td>\n",
       "            <td>5885.71</td>\n",
       "            <td>7</td>\n",
       "        </tr>\n",
       "        <tr>\n",
       "            <td>6</td>\n",
       "            <td>4200.0</td>\n",
       "            <td>9000.0</td>\n",
       "            <td>5760.0</td>\n",
       "            <td>5</td>\n",
       "        </tr>\n",
       "        <tr>\n",
       "            <td>1</td>\n",
       "            <td>4400.0</td>\n",
       "            <td>4400.0</td>\n",
       "            <td>4400.0</td>\n",
       "            <td>1</td>\n",
       "        </tr>\n",
       "    </tbody>\n",
       "</table>\n",
       "<span style=\"font-style:italic;text-align:center;\">Truncated to <a href=\"https://jupysql.ploomber.io/en/latest/api/configuration.html#displaylimit\">displaylimit</a> of 10.</span>"
      ],
      "text/plain": [
       "+---------------+-----------------+-----------------+-----------------+--------------+\n",
       "| department_id | dept_min_salary | dept_max_salary | dept_avg_salary | employee_cnt |\n",
       "+---------------+-----------------+-----------------+-----------------+--------------+\n",
       "|       9       |     17000.0     |     24000.0     |     19333.33    |      3       |\n",
       "|       11      |      8300.0     |     12000.0     |     10150.0     |      2       |\n",
       "|       7       |     10000.0     |     10000.0     |     10000.0     |      1       |\n",
       "|       8       |      6200.0     |     14000.0     |     9616.67     |      6       |\n",
       "|       2       |      6000.0     |     13000.0     |      9500.0     |      2       |\n",
       "|       10      |      6900.0     |     12000.0     |      8600.0     |      6       |\n",
       "|       4       |      6500.0     |      6500.0     |      6500.0     |      1       |\n",
       "|       5       |      2700.0     |      8200.0     |     5885.71     |      7       |\n",
       "|       6       |      4200.0     |      9000.0     |      5760.0     |      5       |\n",
       "|       1       |      4400.0     |      4400.0     |      4400.0     |      1       |\n",
       "+---------------+-----------------+-----------------+-----------------+--------------+\n",
       "Truncated to displaylimit of 10."
      ]
     },
     "execution_count": 4,
     "metadata": {},
     "output_type": "execute_result"
    }
   ],
   "source": []
  },
  {
   "cell_type": "markdown",
   "id": "e59ae516-52cb-4f20-a128-090073d30edb",
   "metadata": {},
   "source": [
    "Copy and paste the code into the `submission.yaml` file for Question 3."
   ]
  },
  {
   "cell_type": "markdown",
   "id": "f57233fa-551e-4a77-b9b4-9120b23ef487",
   "metadata": {},
   "source": [
    "## JOINs"
   ]
  },
  {
   "cell_type": "markdown",
   "id": "00cd622d-9dc4-44df-9125-bc61e7f20481",
   "metadata": {},
   "source": [
    "#### Question 4\n",
    "\n",
    "Write a query that returns the employee with the Programmer title that has the lowest salary.\n",
    "\n",
    "Include columns `employee_id`, `first_name`, `last_name`, `salary`, `job_title`.\n",
    "\n",
    "<h4 style=\"color:blue\"> Write Your Code Below: </h4>"
   ]
  },
  {
   "cell_type": "code",
   "execution_count": null,
   "id": "ddb5df3e-2159-49f2-8e34-65a4d30a3c42",
   "metadata": {},
   "outputs": [],
   "source": []
  },
  {
   "cell_type": "markdown",
   "id": "a1891d18-4427-48b6-b387-c725b153668a",
   "metadata": {},
   "source": [
    "<h3 style=\"color:teal\"> Expected Output: </h3>"
   ]
  },
  {
   "cell_type": "code",
   "execution_count": null,
   "id": "e5c69d75-134a-4e05-9f0a-af8b7799622d",
   "metadata": {},
   "outputs": [
    {
     "data": {
      "text/html": [
       "<span style=\"None\">Running query in &#x27;sqlite:///employee_small.db&#x27;</span>"
      ],
      "text/plain": [
       "Running query in 'sqlite:///employee_small.db'"
      ]
     },
     "metadata": {},
     "output_type": "display_data"
    },
    {
     "data": {
      "text/html": [
       "<table>\n",
       "    <thead>\n",
       "        <tr>\n",
       "            <th>employee_id</th>\n",
       "            <th>first_name</th>\n",
       "            <th>last_name</th>\n",
       "            <th>salary</th>\n",
       "            <th>job_title</th>\n",
       "        </tr>\n",
       "    </thead>\n",
       "    <tbody>\n",
       "        <tr>\n",
       "            <td>107</td>\n",
       "            <td>Diana</td>\n",
       "            <td>Lorentz</td>\n",
       "            <td>4200.0</td>\n",
       "            <td>Programmer</td>\n",
       "        </tr>\n",
       "    </tbody>\n",
       "</table>"
      ],
      "text/plain": [
       "+-------------+------------+-----------+--------+------------+\n",
       "| employee_id | first_name | last_name | salary | job_title  |\n",
       "+-------------+------------+-----------+--------+------------+\n",
       "|     107     |   Diana    |  Lorentz  | 4200.0 | Programmer |\n",
       "+-------------+------------+-----------+--------+------------+"
      ]
     },
     "execution_count": 5,
     "metadata": {},
     "output_type": "execute_result"
    }
   ],
   "source": []
  },
  {
   "cell_type": "markdown",
   "id": "a7df0121-9cd3-460c-a3d4-ae689af50dea",
   "metadata": {},
   "source": [
    "Copy and paste the code into the `submission.yaml` file for Question 4."
   ]
  },
  {
   "cell_type": "markdown",
   "id": "9b8e747a-e651-4a87-896e-1c5ef78320c9",
   "metadata": {},
   "source": [
    "#### Question 5\n",
    "\n",
    "Write a query that returns the minimum, maximum, and average salary in each department (**department_name**) and order the results by average salary in descending order. Round the average salary to 2 decimal places.\n",
    "\n",
    "Include columns `department_name` as well as calculated columns `dept_min_salary`, `dept_max_salary`, `dept_avg_salary`, `employee_cnt`.\n",
    "\n",
    "<h4 style=\"color:blue\"> Write Your Code Below: </h4>"
   ]
  },
  {
   "cell_type": "code",
   "execution_count": null,
   "id": "384e23a3-31c3-4248-b3ab-1db7a5cdd8f3",
   "metadata": {},
   "outputs": [],
   "source": []
  },
  {
   "cell_type": "markdown",
   "id": "26db9f41-bf21-4578-9430-ec44d65872a0",
   "metadata": {},
   "source": [
    "<h3 style=\"color:teal\"> Expected Output: </h3>"
   ]
  },
  {
   "cell_type": "code",
   "execution_count": null,
   "id": "ae09ba12-4e49-406e-86ca-a240072f18bb",
   "metadata": {},
   "outputs": [
    {
     "data": {
      "text/html": [
       "<span style=\"None\">Running query in &#x27;sqlite:///employee_small.db&#x27;</span>"
      ],
      "text/plain": [
       "Running query in 'sqlite:///employee_small.db'"
      ]
     },
     "metadata": {},
     "output_type": "display_data"
    },
    {
     "data": {
      "text/html": [
       "<table>\n",
       "    <thead>\n",
       "        <tr>\n",
       "            <th>department_name</th>\n",
       "            <th>dept_min_salary</th>\n",
       "            <th>dept_max_salary</th>\n",
       "            <th>dept_avg_salary</th>\n",
       "            <th>employee_cnt</th>\n",
       "        </tr>\n",
       "    </thead>\n",
       "    <tbody>\n",
       "        <tr>\n",
       "            <td>Executive</td>\n",
       "            <td>17000.0</td>\n",
       "            <td>24000.0</td>\n",
       "            <td>19333.33</td>\n",
       "            <td>3</td>\n",
       "        </tr>\n",
       "        <tr>\n",
       "            <td>Accounting</td>\n",
       "            <td>8300.0</td>\n",
       "            <td>12000.0</td>\n",
       "            <td>10150.0</td>\n",
       "            <td>2</td>\n",
       "        </tr>\n",
       "        <tr>\n",
       "            <td>Public Relations</td>\n",
       "            <td>10000.0</td>\n",
       "            <td>10000.0</td>\n",
       "            <td>10000.0</td>\n",
       "            <td>1</td>\n",
       "        </tr>\n",
       "        <tr>\n",
       "            <td>Sales</td>\n",
       "            <td>6200.0</td>\n",
       "            <td>14000.0</td>\n",
       "            <td>9616.67</td>\n",
       "            <td>6</td>\n",
       "        </tr>\n",
       "        <tr>\n",
       "            <td>Marketing</td>\n",
       "            <td>6000.0</td>\n",
       "            <td>13000.0</td>\n",
       "            <td>9500.0</td>\n",
       "            <td>2</td>\n",
       "        </tr>\n",
       "        <tr>\n",
       "            <td>Finance</td>\n",
       "            <td>6900.0</td>\n",
       "            <td>12000.0</td>\n",
       "            <td>8600.0</td>\n",
       "            <td>6</td>\n",
       "        </tr>\n",
       "        <tr>\n",
       "            <td>Human Resources</td>\n",
       "            <td>6500.0</td>\n",
       "            <td>6500.0</td>\n",
       "            <td>6500.0</td>\n",
       "            <td>1</td>\n",
       "        </tr>\n",
       "        <tr>\n",
       "            <td>Shipping</td>\n",
       "            <td>2700.0</td>\n",
       "            <td>8200.0</td>\n",
       "            <td>5885.71</td>\n",
       "            <td>7</td>\n",
       "        </tr>\n",
       "        <tr>\n",
       "            <td>IT</td>\n",
       "            <td>4200.0</td>\n",
       "            <td>9000.0</td>\n",
       "            <td>5760.0</td>\n",
       "            <td>5</td>\n",
       "        </tr>\n",
       "        <tr>\n",
       "            <td>Administration</td>\n",
       "            <td>4400.0</td>\n",
       "            <td>4400.0</td>\n",
       "            <td>4400.0</td>\n",
       "            <td>1</td>\n",
       "        </tr>\n",
       "    </tbody>\n",
       "</table>\n",
       "<span style=\"font-style:italic;text-align:center;\">Truncated to <a href=\"https://jupysql.ploomber.io/en/latest/api/configuration.html#displaylimit\">displaylimit</a> of 10.</span>"
      ],
      "text/plain": [
       "+------------------+-----------------+-----------------+-----------------+--------------+\n",
       "| department_name  | dept_min_salary | dept_max_salary | dept_avg_salary | employee_cnt |\n",
       "+------------------+-----------------+-----------------+-----------------+--------------+\n",
       "|    Executive     |     17000.0     |     24000.0     |     19333.33    |      3       |\n",
       "|    Accounting    |      8300.0     |     12000.0     |     10150.0     |      2       |\n",
       "| Public Relations |     10000.0     |     10000.0     |     10000.0     |      1       |\n",
       "|      Sales       |      6200.0     |     14000.0     |     9616.67     |      6       |\n",
       "|    Marketing     |      6000.0     |     13000.0     |      9500.0     |      2       |\n",
       "|     Finance      |      6900.0     |     12000.0     |      8600.0     |      6       |\n",
       "| Human Resources  |      6500.0     |      6500.0     |      6500.0     |      1       |\n",
       "|     Shipping     |      2700.0     |      8200.0     |     5885.71     |      7       |\n",
       "|        IT        |      4200.0     |      9000.0     |      5760.0     |      5       |\n",
       "|  Administration  |      4400.0     |      4400.0     |      4400.0     |      1       |\n",
       "+------------------+-----------------+-----------------+-----------------+--------------+\n",
       "Truncated to displaylimit of 10."
      ]
     },
     "execution_count": 6,
     "metadata": {},
     "output_type": "execute_result"
    }
   ],
   "source": []
  },
  {
   "cell_type": "markdown",
   "id": "78179151-4e01-4828-8ffa-53dc0da98dfc",
   "metadata": {},
   "source": [
    "Copy and paste the code into the `submission.yaml` file for Question 5."
   ]
  },
  {
   "cell_type": "markdown",
   "id": "d3ab9f66-7e75-4363-8517-34e179a08cc7",
   "metadata": {},
   "source": [
    "#### Question 6\n",
    "\n",
    "Write a query that returns the minimum, maximum, and average salary in each department with at least 5 employees and order the results by average salary in descending order. Round the average salary to 2 decimal places.\n",
    "\n",
    "Include columns `department_name` as well as calculated columns `dept_min_salary`, `dept_max_salary`, `dept_avg_salary`, `employee_cnt`.\n",
    "\n",
    "<h4 style=\"color:blue\"> Write Your Code Below: </h4>"
   ]
  },
  {
   "cell_type": "code",
   "execution_count": null,
   "id": "3720b3fd-ae6f-4b91-ae3a-d4ebec5ff925",
   "metadata": {},
   "outputs": [],
   "source": []
  },
  {
   "cell_type": "markdown",
   "id": "e2b3b718-3741-48d7-9a60-93105ebe3294",
   "metadata": {},
   "source": [
    "<h3 style=\"color:teal\"> Expected Output: </h3>"
   ]
  },
  {
   "cell_type": "code",
   "execution_count": null,
   "id": "9a4dbd57-4766-4e32-9bd1-ceb1b249551b",
   "metadata": {},
   "outputs": [
    {
     "data": {
      "text/html": [
       "<span style=\"None\">Running query in &#x27;sqlite:///employee_small.db&#x27;</span>"
      ],
      "text/plain": [
       "Running query in 'sqlite:///employee_small.db'"
      ]
     },
     "metadata": {},
     "output_type": "display_data"
    },
    {
     "data": {
      "text/html": [
       "<table>\n",
       "    <thead>\n",
       "        <tr>\n",
       "            <th>department_name</th>\n",
       "            <th>dept_min_salary</th>\n",
       "            <th>dept_max_salary</th>\n",
       "            <th>dept_avg_salary</th>\n",
       "            <th>employee_cnt</th>\n",
       "        </tr>\n",
       "    </thead>\n",
       "    <tbody>\n",
       "        <tr>\n",
       "            <td>Sales</td>\n",
       "            <td>6200.0</td>\n",
       "            <td>14000.0</td>\n",
       "            <td>9616.67</td>\n",
       "            <td>6</td>\n",
       "        </tr>\n",
       "        <tr>\n",
       "            <td>Finance</td>\n",
       "            <td>6900.0</td>\n",
       "            <td>12000.0</td>\n",
       "            <td>8600.0</td>\n",
       "            <td>6</td>\n",
       "        </tr>\n",
       "        <tr>\n",
       "            <td>Shipping</td>\n",
       "            <td>2700.0</td>\n",
       "            <td>8200.0</td>\n",
       "            <td>5885.71</td>\n",
       "            <td>7</td>\n",
       "        </tr>\n",
       "        <tr>\n",
       "            <td>IT</td>\n",
       "            <td>4200.0</td>\n",
       "            <td>9000.0</td>\n",
       "            <td>5760.0</td>\n",
       "            <td>5</td>\n",
       "        </tr>\n",
       "        <tr>\n",
       "            <td>Purchasing</td>\n",
       "            <td>2500.0</td>\n",
       "            <td>11000.0</td>\n",
       "            <td>4150.0</td>\n",
       "            <td>6</td>\n",
       "        </tr>\n",
       "    </tbody>\n",
       "</table>"
      ],
      "text/plain": [
       "+-----------------+-----------------+-----------------+-----------------+--------------+\n",
       "| department_name | dept_min_salary | dept_max_salary | dept_avg_salary | employee_cnt |\n",
       "+-----------------+-----------------+-----------------+-----------------+--------------+\n",
       "|      Sales      |      6200.0     |     14000.0     |     9616.67     |      6       |\n",
       "|     Finance     |      6900.0     |     12000.0     |      8600.0     |      6       |\n",
       "|     Shipping    |      2700.0     |      8200.0     |     5885.71     |      7       |\n",
       "|        IT       |      4200.0     |      9000.0     |      5760.0     |      5       |\n",
       "|    Purchasing   |      2500.0     |     11000.0     |      4150.0     |      6       |\n",
       "+-----------------+-----------------+-----------------+-----------------+--------------+"
      ]
     },
     "execution_count": 7,
     "metadata": {},
     "output_type": "execute_result"
    }
   ],
   "source": []
  },
  {
   "cell_type": "markdown",
   "id": "8a36fee6-38b8-405e-94f7-fb733f0c90c2",
   "metadata": {},
   "source": [
    "Copy and paste the code into the `submission.yaml` file for Question 6."
   ]
  },
  {
   "cell_type": "markdown",
   "id": "6a3aced3-aaca-4442-9aeb-80eb88a212e3",
   "metadata": {},
   "source": [
    "#### Question 7\n",
    "\n",
    "Write a query that returns all employees that have no dependents.\n",
    "\n",
    "Include columns `employee_id`, `first_name`, `last_name`, `department_name`.\n",
    "\n",
    "<h4 style=\"color:blue\"> Write Your Code Below: </h4>"
   ]
  },
  {
   "cell_type": "code",
   "execution_count": null,
   "id": "1f08f6bc-ed08-4f47-984c-4a089a7c6f1b",
   "metadata": {},
   "outputs": [],
   "source": []
  },
  {
   "cell_type": "markdown",
   "id": "30fe9e88-0b05-4cd0-aa0b-d51442aec5d6",
   "metadata": {},
   "source": [
    "<h3 style=\"color:teal\"> Expected Output: </h3>"
   ]
  },
  {
   "cell_type": "code",
   "execution_count": null,
   "id": "f7061c2d-416c-489f-8a50-48031b52a71e",
   "metadata": {},
   "outputs": [
    {
     "data": {
      "text/html": [
       "<span style=\"None\">Running query in &#x27;sqlite:///employee_small.db&#x27;</span>"
      ],
      "text/plain": [
       "Running query in 'sqlite:///employee_small.db'"
      ]
     },
     "metadata": {},
     "output_type": "display_data"
    },
    {
     "data": {
      "text/html": [
       "<table>\n",
       "    <thead>\n",
       "        <tr>\n",
       "            <th>employee_id</th>\n",
       "            <th>first_name</th>\n",
       "            <th>last_name</th>\n",
       "            <th>department_name</th>\n",
       "        </tr>\n",
       "    </thead>\n",
       "    <tbody>\n",
       "        <tr>\n",
       "            <td>120</td>\n",
       "            <td>Matthew</td>\n",
       "            <td>Weiss</td>\n",
       "            <td>Shipping</td>\n",
       "        </tr>\n",
       "        <tr>\n",
       "            <td>121</td>\n",
       "            <td>Adam</td>\n",
       "            <td>Fripp</td>\n",
       "            <td>Shipping</td>\n",
       "        </tr>\n",
       "        <tr>\n",
       "            <td>122</td>\n",
       "            <td>Payam</td>\n",
       "            <td>Kaufling</td>\n",
       "            <td>Shipping</td>\n",
       "        </tr>\n",
       "        <tr>\n",
       "            <td>123</td>\n",
       "            <td>Shanta</td>\n",
       "            <td>Vollman</td>\n",
       "            <td>Shipping</td>\n",
       "        </tr>\n",
       "        <tr>\n",
       "            <td>126</td>\n",
       "            <td>Irene</td>\n",
       "            <td>Mikkilineni</td>\n",
       "            <td>Shipping</td>\n",
       "        </tr>\n",
       "        <tr>\n",
       "            <td>177</td>\n",
       "            <td>Jack</td>\n",
       "            <td>Livingston</td>\n",
       "            <td>Sales</td>\n",
       "        </tr>\n",
       "        <tr>\n",
       "            <td>178</td>\n",
       "            <td>Kimberely</td>\n",
       "            <td>Grant</td>\n",
       "            <td>Sales</td>\n",
       "        </tr>\n",
       "        <tr>\n",
       "            <td>179</td>\n",
       "            <td>Charles</td>\n",
       "            <td>Johnson</td>\n",
       "            <td>Sales</td>\n",
       "        </tr>\n",
       "        <tr>\n",
       "            <td>192</td>\n",
       "            <td>Sarah</td>\n",
       "            <td>Bell</td>\n",
       "            <td>Shipping</td>\n",
       "        </tr>\n",
       "        <tr>\n",
       "            <td>193</td>\n",
       "            <td>Britney</td>\n",
       "            <td>Everett</td>\n",
       "            <td>Shipping</td>\n",
       "        </tr>\n",
       "    </tbody>\n",
       "</table>\n",
       "<span style=\"font-style:italic;text-align:center;\">Truncated to <a href=\"https://jupysql.ploomber.io/en/latest/api/configuration.html#displaylimit\">displaylimit</a> of 10.</span>"
      ],
      "text/plain": [
       "+-------------+------------+-------------+-----------------+\n",
       "| employee_id | first_name |  last_name  | department_name |\n",
       "+-------------+------------+-------------+-----------------+\n",
       "|     120     |  Matthew   |    Weiss    |     Shipping    |\n",
       "|     121     |    Adam    |    Fripp    |     Shipping    |\n",
       "|     122     |   Payam    |   Kaufling  |     Shipping    |\n",
       "|     123     |   Shanta   |   Vollman   |     Shipping    |\n",
       "|     126     |   Irene    | Mikkilineni |     Shipping    |\n",
       "|     177     |    Jack    |  Livingston |      Sales      |\n",
       "|     178     | Kimberely  |    Grant    |      Sales      |\n",
       "|     179     |  Charles   |   Johnson   |      Sales      |\n",
       "|     192     |   Sarah    |     Bell    |     Shipping    |\n",
       "|     193     |  Britney   |   Everett   |     Shipping    |\n",
       "+-------------+------------+-------------+-----------------+\n",
       "Truncated to displaylimit of 10."
      ]
     },
     "execution_count": 8,
     "metadata": {},
     "output_type": "execute_result"
    }
   ],
   "source": []
  },
  {
   "cell_type": "markdown",
   "id": "6132f60d-e0ff-4480-acc9-9e1531defa4f",
   "metadata": {},
   "source": [
    "Copy and paste the code into the `submission.yaml` file for Question 7."
   ]
  },
  {
   "cell_type": "markdown",
   "id": "963256f1-2422-47ff-8dd4-1df061da8be4",
   "metadata": {},
   "source": [
    "#### Question 8\n",
    "\n",
    "Write a query that returns the number of dependents per employee in the Sales and Executive departments. Employees that have no dependents should be zero and order the results by the number of dependents in descending order and then by employee id in ascending order.\n",
    "\n",
    "Include columns `employee_id`, `first_name`, `last_name`, `department_name` as well as calculated columns `dependent_cnt`.\n",
    "\n",
    "<h4 style=\"color:blue\"> Write Your Code Below: </h4>"
   ]
  },
  {
   "cell_type": "code",
   "execution_count": null,
   "id": "317e08ac-5c3a-4ce8-b604-61f316878b69",
   "metadata": {},
   "outputs": [],
   "source": []
  },
  {
   "cell_type": "markdown",
   "id": "bd9760a7-d8ca-4876-8f41-26f0530eb2e9",
   "metadata": {},
   "source": [
    "<h3 style=\"color:teal\"> Expected Output: </h3>"
   ]
  },
  {
   "cell_type": "code",
   "execution_count": null,
   "id": "c420484f-a3ab-4ae0-8f2a-ad26da259d9f",
   "metadata": {},
   "outputs": [
    {
     "data": {
      "text/html": [
       "<span style=\"None\">Running query in &#x27;sqlite:///employee_small.db&#x27;</span>"
      ],
      "text/plain": [
       "Running query in 'sqlite:///employee_small.db'"
      ]
     },
     "metadata": {},
     "output_type": "display_data"
    },
    {
     "data": {
      "text/html": [
       "<table>\n",
       "    <thead>\n",
       "        <tr>\n",
       "            <th>employee_id</th>\n",
       "            <th>first_name</th>\n",
       "            <th>last_name</th>\n",
       "            <th>department_name</th>\n",
       "            <th>dependent_cnt</th>\n",
       "        </tr>\n",
       "    </thead>\n",
       "    <tbody>\n",
       "        <tr>\n",
       "            <td>100</td>\n",
       "            <td>Steven</td>\n",
       "            <td>King</td>\n",
       "            <td>Executive</td>\n",
       "            <td>1</td>\n",
       "        </tr>\n",
       "        <tr>\n",
       "            <td>101</td>\n",
       "            <td>Neena</td>\n",
       "            <td>Kochhar</td>\n",
       "            <td>Executive</td>\n",
       "            <td>1</td>\n",
       "        </tr>\n",
       "        <tr>\n",
       "            <td>102</td>\n",
       "            <td>Lex</td>\n",
       "            <td>De Haan</td>\n",
       "            <td>Executive</td>\n",
       "            <td>1</td>\n",
       "        </tr>\n",
       "        <tr>\n",
       "            <td>145</td>\n",
       "            <td>John</td>\n",
       "            <td>Russell</td>\n",
       "            <td>Sales</td>\n",
       "            <td>1</td>\n",
       "        </tr>\n",
       "        <tr>\n",
       "            <td>146</td>\n",
       "            <td>Karen</td>\n",
       "            <td>Partners</td>\n",
       "            <td>Sales</td>\n",
       "            <td>1</td>\n",
       "        </tr>\n",
       "        <tr>\n",
       "            <td>176</td>\n",
       "            <td>Jonathon</td>\n",
       "            <td>Taylor</td>\n",
       "            <td>Sales</td>\n",
       "            <td>1</td>\n",
       "        </tr>\n",
       "        <tr>\n",
       "            <td>177</td>\n",
       "            <td>Jack</td>\n",
       "            <td>Livingston</td>\n",
       "            <td>Sales</td>\n",
       "            <td>0</td>\n",
       "        </tr>\n",
       "        <tr>\n",
       "            <td>178</td>\n",
       "            <td>Kimberely</td>\n",
       "            <td>Grant</td>\n",
       "            <td>Sales</td>\n",
       "            <td>0</td>\n",
       "        </tr>\n",
       "        <tr>\n",
       "            <td>179</td>\n",
       "            <td>Charles</td>\n",
       "            <td>Johnson</td>\n",
       "            <td>Sales</td>\n",
       "            <td>0</td>\n",
       "        </tr>\n",
       "    </tbody>\n",
       "</table>"
      ],
      "text/plain": [
       "+-------------+------------+------------+-----------------+---------------+\n",
       "| employee_id | first_name | last_name  | department_name | dependent_cnt |\n",
       "+-------------+------------+------------+-----------------+---------------+\n",
       "|     100     |   Steven   |    King    |    Executive    |       1       |\n",
       "|     101     |   Neena    |  Kochhar   |    Executive    |       1       |\n",
       "|     102     |    Lex     |  De Haan   |    Executive    |       1       |\n",
       "|     145     |    John    |  Russell   |      Sales      |       1       |\n",
       "|     146     |   Karen    |  Partners  |      Sales      |       1       |\n",
       "|     176     |  Jonathon  |   Taylor   |      Sales      |       1       |\n",
       "|     177     |    Jack    | Livingston |      Sales      |       0       |\n",
       "|     178     | Kimberely  |   Grant    |      Sales      |       0       |\n",
       "|     179     |  Charles   |  Johnson   |      Sales      |       0       |\n",
       "+-------------+------------+------------+-----------------+---------------+"
      ]
     },
     "execution_count": 9,
     "metadata": {},
     "output_type": "execute_result"
    }
   ],
   "source": []
  },
  {
   "cell_type": "markdown",
   "id": "414572dc-a659-4637-888b-cded2a84f2e3",
   "metadata": {},
   "source": [
    "Copy and paste the code into the `submission.yaml` file for Question 8."
   ]
  },
  {
   "cell_type": "markdown",
   "id": "b989a4e2-c34e-420d-a49b-ef446dbc0964",
   "metadata": {},
   "source": [
    "#### Question 9\n",
    "\n",
    "Write a query that returns all employees that make less than 50% of their max salary for the job title and order the results by their salary in ascending order and then by employee id in ascending order.\n",
    "\n",
    "Include columns `employee_id`, `first_name`, `last_name`, `salary`, `job_title` as well as **alias** columns `job_max_salary`. Use `max_salary` from `job` instead of calculating the max salary for all employees.\n",
    "\n",
    "<h4 style=\"color:blue\"> Write Your Code Below: </h4>"
   ]
  },
  {
   "cell_type": "code",
   "execution_count": null,
   "id": "5b8eb9b1-117f-415a-a9ba-b243b3017d67",
   "metadata": {},
   "outputs": [],
   "source": []
  },
  {
   "cell_type": "markdown",
   "id": "22b6e301-9065-4032-bccc-101ebab15d38",
   "metadata": {},
   "source": [
    "<h3 style=\"color:teal\"> Expected Output: </h3>"
   ]
  },
  {
   "cell_type": "code",
   "execution_count": null,
   "id": "611be8d5-4c33-4f60-bbca-c6ade4a45ce6",
   "metadata": {},
   "outputs": [
    {
     "data": {
      "text/html": [
       "<span style=\"None\">Running query in &#x27;sqlite:///employee_small.db&#x27;</span>"
      ],
      "text/plain": [
       "Running query in 'sqlite:///employee_small.db'"
      ]
     },
     "metadata": {},
     "output_type": "display_data"
    },
    {
     "data": {
      "text/html": [
       "<table>\n",
       "    <thead>\n",
       "        <tr>\n",
       "            <th>employee_id</th>\n",
       "            <th>first_name</th>\n",
       "            <th>last_name</th>\n",
       "            <th>salary</th>\n",
       "            <th>job_title</th>\n",
       "            <th>job_max_salary</th>\n",
       "        </tr>\n",
       "    </thead>\n",
       "    <tbody>\n",
       "        <tr>\n",
       "            <td>119</td>\n",
       "            <td>Karen</td>\n",
       "            <td>Colmenares</td>\n",
       "            <td>2500.0</td>\n",
       "            <td>Purchasing Clerk</td>\n",
       "            <td>5500.0</td>\n",
       "        </tr>\n",
       "        <tr>\n",
       "            <td>118</td>\n",
       "            <td>Guy</td>\n",
       "            <td>Himuro</td>\n",
       "            <td>2600.0</td>\n",
       "            <td>Purchasing Clerk</td>\n",
       "            <td>5500.0</td>\n",
       "        </tr>\n",
       "        <tr>\n",
       "            <td>107</td>\n",
       "            <td>Diana</td>\n",
       "            <td>Lorentz</td>\n",
       "            <td>4200.0</td>\n",
       "            <td>Programmer</td>\n",
       "            <td>10000.0</td>\n",
       "        </tr>\n",
       "        <tr>\n",
       "            <td>105</td>\n",
       "            <td>David</td>\n",
       "            <td>Austin</td>\n",
       "            <td>4800.0</td>\n",
       "            <td>Programmer</td>\n",
       "            <td>10000.0</td>\n",
       "        </tr>\n",
       "        <tr>\n",
       "            <td>106</td>\n",
       "            <td>Valli</td>\n",
       "            <td>Pataballa</td>\n",
       "            <td>4800.0</td>\n",
       "            <td>Programmer</td>\n",
       "            <td>10000.0</td>\n",
       "        </tr>\n",
       "    </tbody>\n",
       "</table>"
      ],
      "text/plain": [
       "+-------------+------------+------------+--------+------------------+----------------+\n",
       "| employee_id | first_name | last_name  | salary |    job_title     | job_max_salary |\n",
       "+-------------+------------+------------+--------+------------------+----------------+\n",
       "|     119     |   Karen    | Colmenares | 2500.0 | Purchasing Clerk |     5500.0     |\n",
       "|     118     |    Guy     |   Himuro   | 2600.0 | Purchasing Clerk |     5500.0     |\n",
       "|     107     |   Diana    |  Lorentz   | 4200.0 |    Programmer    |    10000.0     |\n",
       "|     105     |   David    |   Austin   | 4800.0 |    Programmer    |    10000.0     |\n",
       "|     106     |   Valli    | Pataballa  | 4800.0 |    Programmer    |    10000.0     |\n",
       "+-------------+------------+------------+--------+------------------+----------------+"
      ]
     },
     "execution_count": 10,
     "metadata": {},
     "output_type": "execute_result"
    }
   ],
   "source": []
  },
  {
   "cell_type": "markdown",
   "id": "1f94ad80-84d4-499b-a233-4c13a974b3f1",
   "metadata": {},
   "source": [
    "Copy and paste the code into the `submission.yaml` file for Question 9."
   ]
  },
  {
   "cell_type": "markdown",
   "id": "6758f196-4e09-4651-948b-3aa9fbb7ca4d",
   "metadata": {},
   "source": [
    "#### Question 10\n",
    "\n",
    "Write a query that returns all employees that have a manager that is not in the same department. Employees that do not have a manager should be included in the results. Order the results by their salary in descending order and then by employee id in ascending order.\n",
    "\n",
    "Include columns `employee_id`, `first_name`, `last_name`, `salary`, `department_name` as well as alias columns `manager_first_name`, `manager_last_name`, `manager_department_name`.\n",
    "\n",
    "<h4 style=\"color:blue\"> Write Your Code Below: </h4>"
   ]
  },
  {
   "cell_type": "code",
   "execution_count": null,
   "id": "6c10f380-ffcb-41fa-88de-836969918428",
   "metadata": {},
   "outputs": [],
   "source": []
  },
  {
   "cell_type": "markdown",
   "id": "a87e4a0c-1f67-4ac4-ba42-e72dedacebaa",
   "metadata": {},
   "source": [
    "<h3 style=\"color:teal\"> Expected Output: </h3>"
   ]
  },
  {
   "cell_type": "code",
   "execution_count": null,
   "id": "75db19e3-0967-42ed-b03c-b2c28c89be60",
   "metadata": {},
   "outputs": [
    {
     "data": {
      "text/html": [
       "<span style=\"None\">Running query in &#x27;sqlite:///employee_small.db&#x27;</span>"
      ],
      "text/plain": [
       "Running query in 'sqlite:///employee_small.db'"
      ]
     },
     "metadata": {},
     "output_type": "display_data"
    },
    {
     "data": {
      "text/html": [
       "<table>\n",
       "    <thead>\n",
       "        <tr>\n",
       "            <th>employee_id</th>\n",
       "            <th>first_name</th>\n",
       "            <th>last_name</th>\n",
       "            <th>salary</th>\n",
       "            <th>department_name</th>\n",
       "            <th>manager_first_name</th>\n",
       "            <th>manager_last_name</th>\n",
       "            <th>manager_department_name</th>\n",
       "        </tr>\n",
       "    </thead>\n",
       "    <tbody>\n",
       "        <tr>\n",
       "            <td>100</td>\n",
       "            <td>Steven</td>\n",
       "            <td>King</td>\n",
       "            <td>24000.0</td>\n",
       "            <td>Executive</td>\n",
       "            <td>None</td>\n",
       "            <td>None</td>\n",
       "            <td>None</td>\n",
       "        </tr>\n",
       "        <tr>\n",
       "            <td>145</td>\n",
       "            <td>John</td>\n",
       "            <td>Russell</td>\n",
       "            <td>14000.0</td>\n",
       "            <td>Sales</td>\n",
       "            <td>Steven</td>\n",
       "            <td>King</td>\n",
       "            <td>Executive</td>\n",
       "        </tr>\n",
       "        <tr>\n",
       "            <td>146</td>\n",
       "            <td>Karen</td>\n",
       "            <td>Partners</td>\n",
       "            <td>13500.0</td>\n",
       "            <td>Sales</td>\n",
       "            <td>Steven</td>\n",
       "            <td>King</td>\n",
       "            <td>Executive</td>\n",
       "        </tr>\n",
       "        <tr>\n",
       "            <td>201</td>\n",
       "            <td>Michael</td>\n",
       "            <td>Hartstein</td>\n",
       "            <td>13000.0</td>\n",
       "            <td>Marketing</td>\n",
       "            <td>Steven</td>\n",
       "            <td>King</td>\n",
       "            <td>Executive</td>\n",
       "        </tr>\n",
       "        <tr>\n",
       "            <td>108</td>\n",
       "            <td>Nancy</td>\n",
       "            <td>Greenberg</td>\n",
       "            <td>12000.0</td>\n",
       "            <td>Finance</td>\n",
       "            <td>Neena</td>\n",
       "            <td>Kochhar</td>\n",
       "            <td>Executive</td>\n",
       "        </tr>\n",
       "        <tr>\n",
       "            <td>205</td>\n",
       "            <td>Shelley</td>\n",
       "            <td>Higgins</td>\n",
       "            <td>12000.0</td>\n",
       "            <td>Accounting</td>\n",
       "            <td>Neena</td>\n",
       "            <td>Kochhar</td>\n",
       "            <td>Executive</td>\n",
       "        </tr>\n",
       "        <tr>\n",
       "            <td>114</td>\n",
       "            <td>Den</td>\n",
       "            <td>Raphaely</td>\n",
       "            <td>11000.0</td>\n",
       "            <td>Purchasing</td>\n",
       "            <td>Steven</td>\n",
       "            <td>King</td>\n",
       "            <td>Executive</td>\n",
       "        </tr>\n",
       "        <tr>\n",
       "            <td>204</td>\n",
       "            <td>Hermann</td>\n",
       "            <td>Baer</td>\n",
       "            <td>10000.0</td>\n",
       "            <td>Public Relations</td>\n",
       "            <td>Neena</td>\n",
       "            <td>Kochhar</td>\n",
       "            <td>Executive</td>\n",
       "        </tr>\n",
       "        <tr>\n",
       "            <td>103</td>\n",
       "            <td>Alexander</td>\n",
       "            <td>Hunold</td>\n",
       "            <td>9000.0</td>\n",
       "            <td>IT</td>\n",
       "            <td>Lex</td>\n",
       "            <td>De Haan</td>\n",
       "            <td>Executive</td>\n",
       "        </tr>\n",
       "        <tr>\n",
       "            <td>176</td>\n",
       "            <td>Jonathon</td>\n",
       "            <td>Taylor</td>\n",
       "            <td>8600.0</td>\n",
       "            <td>Sales</td>\n",
       "            <td>Steven</td>\n",
       "            <td>King</td>\n",
       "            <td>Executive</td>\n",
       "        </tr>\n",
       "    </tbody>\n",
       "</table>\n",
       "<span style=\"font-style:italic;text-align:center;\">Truncated to <a href=\"https://jupysql.ploomber.io/en/latest/api/configuration.html#displaylimit\">displaylimit</a> of 10.</span>"
      ],
      "text/plain": [
       "+-------------+------------+-----------+---------+------------------+--------------------+-------------------+-------------------------+\n",
       "| employee_id | first_name | last_name |  salary | department_name  | manager_first_name | manager_last_name | manager_department_name |\n",
       "+-------------+------------+-----------+---------+------------------+--------------------+-------------------+-------------------------+\n",
       "|     100     |   Steven   |    King   | 24000.0 |    Executive     |        None        |        None       |           None          |\n",
       "|     145     |    John    |  Russell  | 14000.0 |      Sales       |       Steven       |        King       |        Executive        |\n",
       "|     146     |   Karen    |  Partners | 13500.0 |      Sales       |       Steven       |        King       |        Executive        |\n",
       "|     201     |  Michael   | Hartstein | 13000.0 |    Marketing     |       Steven       |        King       |        Executive        |\n",
       "|     108     |   Nancy    | Greenberg | 12000.0 |     Finance      |       Neena        |      Kochhar      |        Executive        |\n",
       "|     205     |  Shelley   |  Higgins  | 12000.0 |    Accounting    |       Neena        |      Kochhar      |        Executive        |\n",
       "|     114     |    Den     |  Raphaely | 11000.0 |    Purchasing    |       Steven       |        King       |        Executive        |\n",
       "|     204     |  Hermann   |    Baer   | 10000.0 | Public Relations |       Neena        |      Kochhar      |        Executive        |\n",
       "|     103     | Alexander  |   Hunold  |  9000.0 |        IT        |        Lex         |      De Haan      |        Executive        |\n",
       "|     176     |  Jonathon  |   Taylor  |  8600.0 |      Sales       |       Steven       |        King       |        Executive        |\n",
       "+-------------+------------+-----------+---------+------------------+--------------------+-------------------+-------------------------+\n",
       "Truncated to displaylimit of 10."
      ]
     },
     "execution_count": 11,
     "metadata": {},
     "output_type": "execute_result"
    }
   ],
   "source": []
  },
  {
   "cell_type": "markdown",
   "id": "40ecb303-2632-4864-9e01-b28dec68c789",
   "metadata": {},
   "source": [
    "Copy and paste the code into the `submission.yaml` file for Question 10."
   ]
  },
  {
   "cell_type": "code",
   "execution_count": null,
   "id": "539163ba-fd7b-47f4-bfbb-149dc7923fcb",
   "metadata": {},
   "outputs": [],
   "source": []
  }
 ],
 "metadata": {
  "kernelspec": {
   "display_name": "Python 3 (ipykernel)",
   "language": "python",
   "name": "python3"
  },
  "language_info": {
   "codemirror_mode": {
    "name": "ipython",
    "version": 3
   },
   "file_extension": ".py",
   "mimetype": "text/x-python",
   "name": "python",
   "nbconvert_exporter": "python",
   "pygments_lexer": "ipython3",
   "version": "3.11.9"
  }
 },
 "nbformat": 4,
 "nbformat_minor": 5
}

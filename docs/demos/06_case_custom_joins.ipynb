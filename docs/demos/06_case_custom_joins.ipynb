{
 "cells": [
  {
   "cell_type": "markdown",
   "id": "f33b2e0a-8b7a-4c83-b0a4-34b865e82bac",
   "metadata": {},
   "source": [
    "<h1 style=\"margin-bottom: 0.25rem;\">CASE and Custom JOINs Demo</h1>"
   ]
  },
  {
   "cell_type": "markdown",
   "id": "e1a25e42-e7cc-484c-af02-4bd27eba3f63",
   "metadata": {},
   "source": [
    "<h2 style=\"margin-top: 1rem;\">Overview</h2>"
   ]
  },
  {
   "cell_type": "markdown",
   "id": "6c12bf8c-9f51-4bce-8ac2-61890690fe3b",
   "metadata": {},
   "source": [
    "In this demo, we will continue using the small sample `employee` database courtesy of https://www.sqltutorial.org/ to get some hands-on practice with the concepts we learned in the `Intermediate_SQL` **Part 2** lecture.\n",
    "\n",
    "Download the resource files for this demo [here](https://drive.google.com/file/d/1o79fDqBNgof-WrjAjd10KdEcX8AyCysC/view?usp=sharing)."
   ]
  },
  {
   "cell_type": "markdown",
   "id": "0cc263a3-8317-43ac-b938-677674a3bfa0",
   "metadata": {},
   "source": [
    "### How is the data organized\n",
    "\n",
    "Below is the ERD for employee_small databases."
   ]
  },
  {
   "attachments": {},
   "cell_type": "markdown",
   "id": "628c584a-7db0-4b9b-b435-ba078b8a03fe",
   "metadata": {},
   "source": [
    "![employee_small_ERD](https://raw.githubusercontent.com/dcyoung23/msba504/main/docs/assets/screenshots/05_employee_small_ERD.png)"
   ]
  },
  {
   "cell_type": "markdown",
   "id": "03d02e36-3ffe-4925-ace9-7d5d48e0698f",
   "metadata": {},
   "source": [
    "## Load Database\n",
    "\n",
    "**NOTE: The `employee_small.db` file MUST be saved in the same folder location as this notebook on your computer.**"
   ]
  },
  {
   "cell_type": "code",
   "execution_count": 1,
   "id": "6a862def-834f-42f7-844f-617030df1eb1",
   "metadata": {},
   "outputs": [
    {
     "data": {
      "text/html": [
       "<span style=\"None\">Connecting to &#x27;sqlite:///employee_small.db&#x27;</span>"
      ],
      "text/plain": [
       "Connecting to 'sqlite:///employee_small.db'"
      ]
     },
     "metadata": {},
     "output_type": "display_data"
    }
   ],
   "source": [
    "import sqlite3\n",
    "\n",
    "%load_ext sql\n",
    "\n",
    "%sql sqlite:///employee_small.db"
   ]
  },
  {
   "cell_type": "markdown",
   "id": "c2066491-362c-4846-a3b7-5b3f8c27bc4f",
   "metadata": {},
   "source": [
    "**IMPORTANT:**  \n",
    "Every query that you write in a Jupyter Notebook cell must have the %%sql command directly above the `SELECT` statement."
   ]
  },
  {
   "cell_type": "markdown",
   "id": "9272aaa3-793e-4039-89bb-4019606b8a46",
   "metadata": {},
   "source": [
    "## String and Date Functions"
   ]
  },
  {
   "cell_type": "markdown",
   "id": "599488f4-8688-4961-8500-1e74c021448e",
   "metadata": {},
   "source": [
    "#### Question 1\n",
    "\n",
    "Write a query that returns all employees with a **650** area code. You may use any method to filter for `area_code` in the WHERE clause but you must use a string function to return the `area_code` in the SELECT clause. Order by `employee_id` in ascending order.\n",
    "\n",
    "Include columns `employee_id`, `first_name`, `last_name`, `phone_number` and calculated column `area_code`. \n",
    "\n",
    "<h4 style=\"color:blue\"> Write Your Code Below: </h4>"
   ]
  },
  {
   "cell_type": "code",
   "execution_count": null,
   "id": "16b9b87d-09a7-44e0-9205-13e3cafe3eaa",
   "metadata": {},
   "outputs": [],
   "source": []
  },
  {
   "cell_type": "markdown",
   "id": "54b0f886-2370-4a40-a3d7-0cf70c7b36ef",
   "metadata": {},
   "source": [
    "<h3 style=\"color:teal\"> Expected Output: </h3>"
   ]
  },
  {
   "cell_type": "code",
   "execution_count": null,
   "id": "c7daca33-5cdb-4633-9f6c-0ac480d3e57f",
   "metadata": {},
   "outputs": [
    {
     "data": {
      "text/html": [
       "<span style=\"None\">Running query in &#x27;sqlite:///employee_small.db&#x27;</span>"
      ],
      "text/plain": [
       "Running query in 'sqlite:///employee_small.db'"
      ]
     },
     "metadata": {},
     "output_type": "display_data"
    },
    {
     "data": {
      "text/html": [
       "<table>\n",
       "    <thead>\n",
       "        <tr>\n",
       "            <th>employee_id</th>\n",
       "            <th>first_name</th>\n",
       "            <th>last_name</th>\n",
       "            <th>phone_number</th>\n",
       "            <th>area_code</th>\n",
       "        </tr>\n",
       "    </thead>\n",
       "    <tbody>\n",
       "        <tr>\n",
       "            <td>120</td>\n",
       "            <td>Matthew</td>\n",
       "            <td>Weiss</td>\n",
       "            <td>650.123.1234</td>\n",
       "            <td>650</td>\n",
       "        </tr>\n",
       "        <tr>\n",
       "            <td>121</td>\n",
       "            <td>Adam</td>\n",
       "            <td>Fripp</td>\n",
       "            <td>650.123.2234</td>\n",
       "            <td>650</td>\n",
       "        </tr>\n",
       "        <tr>\n",
       "            <td>122</td>\n",
       "            <td>Payam</td>\n",
       "            <td>Kaufling</td>\n",
       "            <td>650.123.3234</td>\n",
       "            <td>650</td>\n",
       "        </tr>\n",
       "        <tr>\n",
       "            <td>123</td>\n",
       "            <td>Shanta</td>\n",
       "            <td>Vollman</td>\n",
       "            <td>650.123.4234</td>\n",
       "            <td>650</td>\n",
       "        </tr>\n",
       "        <tr>\n",
       "            <td>126</td>\n",
       "            <td>Irene</td>\n",
       "            <td>Mikkilineni</td>\n",
       "            <td>650.124.1224</td>\n",
       "            <td>650</td>\n",
       "        </tr>\n",
       "        <tr>\n",
       "            <td>192</td>\n",
       "            <td>Sarah</td>\n",
       "            <td>Bell</td>\n",
       "            <td>650.501.1876</td>\n",
       "            <td>650</td>\n",
       "        </tr>\n",
       "        <tr>\n",
       "            <td>193</td>\n",
       "            <td>Britney</td>\n",
       "            <td>Everett</td>\n",
       "            <td>650.501.2876</td>\n",
       "            <td>650</td>\n",
       "        </tr>\n",
       "    </tbody>\n",
       "</table>"
      ],
      "text/plain": [
       "+-------------+------------+-------------+--------------+-----------+\n",
       "| employee_id | first_name |  last_name  | phone_number | area_code |\n",
       "+-------------+------------+-------------+--------------+-----------+\n",
       "|     120     |  Matthew   |    Weiss    | 650.123.1234 |    650    |\n",
       "|     121     |    Adam    |    Fripp    | 650.123.2234 |    650    |\n",
       "|     122     |   Payam    |   Kaufling  | 650.123.3234 |    650    |\n",
       "|     123     |   Shanta   |   Vollman   | 650.123.4234 |    650    |\n",
       "|     126     |   Irene    | Mikkilineni | 650.124.1224 |    650    |\n",
       "|     192     |   Sarah    |     Bell    | 650.501.1876 |    650    |\n",
       "|     193     |  Britney   |   Everett   | 650.501.2876 |    650    |\n",
       "+-------------+------------+-------------+--------------+-----------+"
      ]
     },
     "execution_count": 2,
     "metadata": {},
     "output_type": "execute_result"
    }
   ],
   "source": []
  },
  {
   "cell_type": "markdown",
   "id": "22a81ef0-da4e-48d9-9787-ca94553a8ff8",
   "metadata": {},
   "source": [
    "Copy and paste the code into the `submission.yaml` file for Question 1."
   ]
  },
  {
   "cell_type": "markdown",
   "id": "b2cbd868-7df2-4943-a871-9854e3f2c793",
   "metadata": {},
   "source": [
    "#### Question 2\n",
    "\n",
    "Write a query that returns all employees that were hired in 1998. You may use any method to filter for `hire_date` in the WHERE clause but you must use a date function to return the `hire_year` in the SELECT clause. Order by `employee_id` in ascending order.\n",
    "\n",
    "Include columns `employee_id`, `first_name`, `last_name`, `hire_date` and calculated column `hire_year`. \n",
    "\n",
    "<h4 style=\"color:blue\"> Write Your Code Below: </h4>"
   ]
  },
  {
   "cell_type": "code",
   "execution_count": null,
   "id": "c27e091d-1084-4de7-9d58-22e323adcc69",
   "metadata": {},
   "outputs": [],
   "source": []
  },
  {
   "cell_type": "markdown",
   "id": "f6d29a05-ddef-40e2-92c7-3aec61e99193",
   "metadata": {},
   "source": [
    "<h3 style=\"color:teal\"> Expected Output: </h3>"
   ]
  },
  {
   "cell_type": "code",
   "execution_count": null,
   "id": "41cc7cc5-ffac-4e28-9269-237eca514ddb",
   "metadata": {},
   "outputs": [
    {
     "data": {
      "text/html": [
       "<span style=\"None\">Running query in &#x27;sqlite:///employee_small.db&#x27;</span>"
      ],
      "text/plain": [
       "Running query in 'sqlite:///employee_small.db'"
      ]
     },
     "metadata": {},
     "output_type": "display_data"
    },
    {
     "data": {
      "text/html": [
       "<table>\n",
       "    <thead>\n",
       "        <tr>\n",
       "            <th>employee_id</th>\n",
       "            <th>first_name</th>\n",
       "            <th>last_name</th>\n",
       "            <th>hire_date</th>\n",
       "            <th>hire_year</th>\n",
       "        </tr>\n",
       "    </thead>\n",
       "    <tbody>\n",
       "        <tr>\n",
       "            <td>106</td>\n",
       "            <td>Valli</td>\n",
       "            <td>Pataballa</td>\n",
       "            <td>1998-02-05</td>\n",
       "            <td>1998</td>\n",
       "        </tr>\n",
       "        <tr>\n",
       "            <td>112</td>\n",
       "            <td>Jose Manuel</td>\n",
       "            <td>Urman</td>\n",
       "            <td>1998-03-07</td>\n",
       "            <td>1998</td>\n",
       "        </tr>\n",
       "        <tr>\n",
       "            <td>118</td>\n",
       "            <td>Guy</td>\n",
       "            <td>Himuro</td>\n",
       "            <td>1998-11-15</td>\n",
       "            <td>1998</td>\n",
       "        </tr>\n",
       "        <tr>\n",
       "            <td>126</td>\n",
       "            <td>Irene</td>\n",
       "            <td>Mikkilineni</td>\n",
       "            <td>1998-09-28</td>\n",
       "            <td>1998</td>\n",
       "        </tr>\n",
       "        <tr>\n",
       "            <td>176</td>\n",
       "            <td>Jonathon</td>\n",
       "            <td>Taylor</td>\n",
       "            <td>1998-03-24</td>\n",
       "            <td>1998</td>\n",
       "        </tr>\n",
       "        <tr>\n",
       "            <td>177</td>\n",
       "            <td>Jack</td>\n",
       "            <td>Livingston</td>\n",
       "            <td>1998-04-23</td>\n",
       "            <td>1998</td>\n",
       "        </tr>\n",
       "    </tbody>\n",
       "</table>"
      ],
      "text/plain": [
       "+-------------+-------------+-------------+------------+-----------+\n",
       "| employee_id |  first_name |  last_name  | hire_date  | hire_year |\n",
       "+-------------+-------------+-------------+------------+-----------+\n",
       "|     106     |    Valli    |  Pataballa  | 1998-02-05 |    1998   |\n",
       "|     112     | Jose Manuel |    Urman    | 1998-03-07 |    1998   |\n",
       "|     118     |     Guy     |    Himuro   | 1998-11-15 |    1998   |\n",
       "|     126     |    Irene    | Mikkilineni | 1998-09-28 |    1998   |\n",
       "|     176     |   Jonathon  |    Taylor   | 1998-03-24 |    1998   |\n",
       "|     177     |     Jack    |  Livingston | 1998-04-23 |    1998   |\n",
       "+-------------+-------------+-------------+------------+-----------+"
      ]
     },
     "execution_count": 3,
     "metadata": {},
     "output_type": "execute_result"
    }
   ],
   "source": []
  },
  {
   "cell_type": "markdown",
   "id": "035da770-e9a4-451c-906a-9109f96e2d06",
   "metadata": {},
   "source": [
    "Copy and paste the code into the `submission.yaml` file for Question 2."
   ]
  },
  {
   "cell_type": "markdown",
   "id": "66d05ca8-0226-477f-89dd-af705a3493eb",
   "metadata": {},
   "source": [
    "## CASE Statements"
   ]
  },
  {
   "cell_type": "markdown",
   "id": "d034a33f-e86c-41f5-8a81-d7a6db62d1f2",
   "metadata": {},
   "source": [
    "#### Question 3\n",
    "\n",
    "Write a query that identifies the number of employees by department that make less than 25% higher than the `min_salary` for their job. Create a custom calculated field `min_salary_pctg_diff_group` that groups employees into `< 25%` and `>= 25%` categories. Order by department in ascending order and then by `min_salary_pctg_diff_group` in ascending order.\n",
    "\n",
    "Include column `department_name` as well as calculated columns `min_salary_pctg_diff_group`, `employee_cnt`.\n",
    "\n",
    "<h4 style=\"color:blue\"> Write Your Code Below: </h4>"
   ]
  },
  {
   "cell_type": "code",
   "execution_count": null,
   "id": "e36f39ee-21c6-4b47-9a69-fcdcc0f2c43d",
   "metadata": {},
   "outputs": [],
   "source": []
  },
  {
   "cell_type": "markdown",
   "id": "ddbdce20-b3cc-46d0-a99e-1c6cbe8d0720",
   "metadata": {},
   "source": [
    "<h3 style=\"color:teal\"> Expected Output: </h3>"
   ]
  },
  {
   "cell_type": "code",
   "execution_count": null,
   "id": "7debffb3-c704-490b-8a6f-1242e0cbb74c",
   "metadata": {},
   "outputs": [
    {
     "data": {
      "text/html": [
       "<span style=\"None\">Running query in &#x27;sqlite:///employee_small.db&#x27;</span>"
      ],
      "text/plain": [
       "Running query in 'sqlite:///employee_small.db'"
      ]
     },
     "metadata": {},
     "output_type": "display_data"
    },
    {
     "data": {
      "text/html": [
       "<table>\n",
       "    <thead>\n",
       "        <tr>\n",
       "            <th>department_name</th>\n",
       "            <th>min_salary_pctg_diff_group</th>\n",
       "            <th>employee_cnt</th>\n",
       "        </tr>\n",
       "    </thead>\n",
       "    <tbody>\n",
       "        <tr>\n",
       "            <td>Accounting</td>\n",
       "            <td>>= 25%</td>\n",
       "            <td>2</td>\n",
       "        </tr>\n",
       "        <tr>\n",
       "            <td>Administration</td>\n",
       "            <td>>= 25%</td>\n",
       "            <td>1</td>\n",
       "        </tr>\n",
       "        <tr>\n",
       "            <td>Executive</td>\n",
       "            <td>< 25%</td>\n",
       "            <td>3</td>\n",
       "        </tr>\n",
       "        <tr>\n",
       "            <td>Finance</td>\n",
       "            <td>>= 25%</td>\n",
       "            <td>6</td>\n",
       "        </tr>\n",
       "        <tr>\n",
       "            <td>Human Resources</td>\n",
       "            <td>>= 25%</td>\n",
       "            <td>1</td>\n",
       "        </tr>\n",
       "        <tr>\n",
       "            <td>IT</td>\n",
       "            <td>< 25%</td>\n",
       "            <td>3</td>\n",
       "        </tr>\n",
       "        <tr>\n",
       "            <td>IT</td>\n",
       "            <td>>= 25%</td>\n",
       "            <td>2</td>\n",
       "        </tr>\n",
       "        <tr>\n",
       "            <td>Marketing</td>\n",
       "            <td>>= 25%</td>\n",
       "            <td>2</td>\n",
       "        </tr>\n",
       "        <tr>\n",
       "            <td>Public Relations</td>\n",
       "            <td>>= 25%</td>\n",
       "            <td>1</td>\n",
       "        </tr>\n",
       "        <tr>\n",
       "            <td>Purchasing</td>\n",
       "            <td>< 25%</td>\n",
       "            <td>5</td>\n",
       "        </tr>\n",
       "    </tbody>\n",
       "</table>\n",
       "<span style=\"font-style:italic;text-align:center;\">Truncated to <a href=\"https://jupysql.ploomber.io/en/latest/api/configuration.html#displaylimit\">displaylimit</a> of 10.</span>"
      ],
      "text/plain": [
       "+------------------+----------------------------+--------------+\n",
       "| department_name  | min_salary_pctg_diff_group | employee_cnt |\n",
       "+------------------+----------------------------+--------------+\n",
       "|    Accounting    |           >= 25%           |      2       |\n",
       "|  Administration  |           >= 25%           |      1       |\n",
       "|    Executive     |           < 25%            |      3       |\n",
       "|     Finance      |           >= 25%           |      6       |\n",
       "| Human Resources  |           >= 25%           |      1       |\n",
       "|        IT        |           < 25%            |      3       |\n",
       "|        IT        |           >= 25%           |      2       |\n",
       "|    Marketing     |           >= 25%           |      2       |\n",
       "| Public Relations |           >= 25%           |      1       |\n",
       "|    Purchasing    |           < 25%            |      5       |\n",
       "+------------------+----------------------------+--------------+\n",
       "Truncated to displaylimit of 10."
      ]
     },
     "execution_count": 4,
     "metadata": {},
     "output_type": "execute_result"
    }
   ],
   "source": []
  },
  {
   "cell_type": "markdown",
   "id": "e59ae516-52cb-4f20-a128-090073d30edb",
   "metadata": {},
   "source": [
    "Copy and paste the code into the `submission.yaml` file for Question 3."
   ]
  },
  {
   "cell_type": "markdown",
   "id": "00cd622d-9dc4-44df-9125-bc61e7f20481",
   "metadata": {},
   "source": [
    "#### Question 4\n",
    "\n",
    "Building on question 3. Write a query that identifies the number of employees by department that now groups employees into `< 25%`, `> 100%`, and `25% - 100%` categories. Order by department in ascending order and then by min_salary_pctg_diff_group in ascending order.\n",
    "\n",
    "Include columns `department_name` as well as calculated columns `min_salary_pctg_diff_group`, `employee_cnt`.\n",
    "\n",
    "<h4 style=\"color:blue\"> Write Your Code Below: </h4>"
   ]
  },
  {
   "cell_type": "code",
   "execution_count": null,
   "id": "ddb5df3e-2159-49f2-8e34-65a4d30a3c42",
   "metadata": {},
   "outputs": [],
   "source": []
  },
  {
   "cell_type": "markdown",
   "id": "a1891d18-4427-48b6-b387-c725b153668a",
   "metadata": {},
   "source": [
    "<h3 style=\"color:teal\"> Expected Output: </h3>"
   ]
  },
  {
   "cell_type": "code",
   "execution_count": null,
   "id": "e5c69d75-134a-4e05-9f0a-af8b7799622d",
   "metadata": {},
   "outputs": [
    {
     "data": {
      "text/html": [
       "<span style=\"None\">Running query in &#x27;sqlite:///employee_small.db&#x27;</span>"
      ],
      "text/plain": [
       "Running query in 'sqlite:///employee_small.db'"
      ]
     },
     "metadata": {},
     "output_type": "display_data"
    },
    {
     "data": {
      "text/html": [
       "<table>\n",
       "    <thead>\n",
       "        <tr>\n",
       "            <th>department_name</th>\n",
       "            <th>min_salary_pctg_diff_group</th>\n",
       "            <th>employee_cnt</th>\n",
       "        </tr>\n",
       "    </thead>\n",
       "    <tbody>\n",
       "        <tr>\n",
       "            <td>Accounting</td>\n",
       "            <td>25% - 100%</td>\n",
       "            <td>2</td>\n",
       "        </tr>\n",
       "        <tr>\n",
       "            <td>Administration</td>\n",
       "            <td>25% - 100%</td>\n",
       "            <td>1</td>\n",
       "        </tr>\n",
       "        <tr>\n",
       "            <td>Executive</td>\n",
       "            <td>< 25%</td>\n",
       "            <td>3</td>\n",
       "        </tr>\n",
       "        <tr>\n",
       "            <td>Finance</td>\n",
       "            <td>25% - 100%</td>\n",
       "            <td>5</td>\n",
       "        </tr>\n",
       "        <tr>\n",
       "            <td>Finance</td>\n",
       "            <td>> 100%</td>\n",
       "            <td>1</td>\n",
       "        </tr>\n",
       "        <tr>\n",
       "            <td>Human Resources</td>\n",
       "            <td>25% - 100%</td>\n",
       "            <td>1</td>\n",
       "        </tr>\n",
       "        <tr>\n",
       "            <td>IT</td>\n",
       "            <td>25% - 100%</td>\n",
       "            <td>1</td>\n",
       "        </tr>\n",
       "        <tr>\n",
       "            <td>IT</td>\n",
       "            <td>< 25%</td>\n",
       "            <td>3</td>\n",
       "        </tr>\n",
       "        <tr>\n",
       "            <td>IT</td>\n",
       "            <td>> 100%</td>\n",
       "            <td>1</td>\n",
       "        </tr>\n",
       "        <tr>\n",
       "            <td>Marketing</td>\n",
       "            <td>25% - 100%</td>\n",
       "            <td>2</td>\n",
       "        </tr>\n",
       "    </tbody>\n",
       "</table>\n",
       "<span style=\"font-style:italic;text-align:center;\">Truncated to <a href=\"https://jupysql.ploomber.io/en/latest/api/configuration.html#displaylimit\">displaylimit</a> of 10.</span>"
      ],
      "text/plain": [
       "+-----------------+----------------------------+--------------+\n",
       "| department_name | min_salary_pctg_diff_group | employee_cnt |\n",
       "+-----------------+----------------------------+--------------+\n",
       "|    Accounting   |         25% - 100%         |      2       |\n",
       "|  Administration |         25% - 100%         |      1       |\n",
       "|    Executive    |           < 25%            |      3       |\n",
       "|     Finance     |         25% - 100%         |      5       |\n",
       "|     Finance     |           > 100%           |      1       |\n",
       "| Human Resources |         25% - 100%         |      1       |\n",
       "|        IT       |         25% - 100%         |      1       |\n",
       "|        IT       |           < 25%            |      3       |\n",
       "|        IT       |           > 100%           |      1       |\n",
       "|    Marketing    |         25% - 100%         |      2       |\n",
       "+-----------------+----------------------------+--------------+\n",
       "Truncated to displaylimit of 10."
      ]
     },
     "execution_count": 5,
     "metadata": {},
     "output_type": "execute_result"
    }
   ],
   "source": []
  },
  {
   "cell_type": "markdown",
   "id": "a7df0121-9cd3-460c-a3d4-ae689af50dea",
   "metadata": {},
   "source": [
    "Copy and paste the code into the `submission.yaml` file for Question 4."
   ]
  },
  {
   "cell_type": "markdown",
   "id": "9b8e747a-e651-4a87-896e-1c5ef78320c9",
   "metadata": {},
   "source": [
    "#### Question 5\n",
    "\n",
    "Write a query that returns the % of employees that make less than 25% in each department with at least 4 employees. Order by the less than 25 percentage calculated field in descending order, round the percentage to 2 decimal places and express as a percentage but without the % sign.\n",
    "\n",
    "Include columns `department_name` as well as calculated columns `less_than_25_pctg`.\n",
    "\n",
    "<h4 style=\"color:blue\"> Write Your Code Below: </h4>"
   ]
  },
  {
   "cell_type": "code",
   "execution_count": null,
   "id": "384e23a3-31c3-4248-b3ab-1db7a5cdd8f3",
   "metadata": {},
   "outputs": [],
   "source": []
  },
  {
   "cell_type": "markdown",
   "id": "26db9f41-bf21-4578-9430-ec44d65872a0",
   "metadata": {},
   "source": [
    "<h3 style=\"color:teal\"> Expected Output: </h3>"
   ]
  },
  {
   "cell_type": "code",
   "execution_count": null,
   "id": "ae09ba12-4e49-406e-86ca-a240072f18bb",
   "metadata": {},
   "outputs": [
    {
     "data": {
      "text/html": [
       "<span style=\"None\">Running query in &#x27;sqlite:///employee_small.db&#x27;</span>"
      ],
      "text/plain": [
       "Running query in 'sqlite:///employee_small.db'"
      ]
     },
     "metadata": {},
     "output_type": "display_data"
    },
    {
     "data": {
      "text/html": [
       "<table>\n",
       "    <thead>\n",
       "        <tr>\n",
       "            <th>department_name</th>\n",
       "            <th>less_than_25_pctg</th>\n",
       "        </tr>\n",
       "    </thead>\n",
       "    <tbody>\n",
       "        <tr>\n",
       "            <td>Purchasing</td>\n",
       "            <td>83.33</td>\n",
       "        </tr>\n",
       "        <tr>\n",
       "            <td>IT</td>\n",
       "            <td>60.0</td>\n",
       "        </tr>\n",
       "        <tr>\n",
       "            <td>Sales</td>\n",
       "            <td>33.33</td>\n",
       "        </tr>\n",
       "        <tr>\n",
       "            <td>Shipping</td>\n",
       "            <td>14.29</td>\n",
       "        </tr>\n",
       "        <tr>\n",
       "            <td>Finance</td>\n",
       "            <td>0.0</td>\n",
       "        </tr>\n",
       "    </tbody>\n",
       "</table>"
      ],
      "text/plain": [
       "+-----------------+-------------------+\n",
       "| department_name | less_than_25_pctg |\n",
       "+-----------------+-------------------+\n",
       "|    Purchasing   |       83.33       |\n",
       "|        IT       |        60.0       |\n",
       "|      Sales      |       33.33       |\n",
       "|     Shipping    |       14.29       |\n",
       "|     Finance     |        0.0        |\n",
       "+-----------------+-------------------+"
      ]
     },
     "execution_count": 6,
     "metadata": {},
     "output_type": "execute_result"
    }
   ],
   "source": []
  },
  {
   "cell_type": "markdown",
   "id": "78179151-4e01-4828-8ffa-53dc0da98dfc",
   "metadata": {},
   "source": [
    "Copy and paste the code into the `submission.yaml` file for Question 5."
   ]
  },
  {
   "cell_type": "markdown",
   "id": "d3ab9f66-7e75-4363-8517-34e179a08cc7",
   "metadata": {},
   "source": [
    "#### Question 6\n",
    "\n",
    "Write a query that returns all employees with a salary that is greater than the salary for the IT department manager. You can hard code the managers employee_id in a JOIN or WHERE clause condition. Order by salary in descending order and then hire date in ascending order.\n",
    "\n",
    "Include columns `employee_id`, calculated field `employee_full_name` in the format first name and last name with a space in between names, as well as columns `hire_date`, `job_title`, `salary`.\n",
    "\n",
    "<h4 style=\"color:blue\"> Write Your Code Below: </h4>"
   ]
  },
  {
   "cell_type": "code",
   "execution_count": null,
   "id": "3720b3fd-ae6f-4b91-ae3a-d4ebec5ff925",
   "metadata": {},
   "outputs": [],
   "source": []
  },
  {
   "cell_type": "markdown",
   "id": "e2b3b718-3741-48d7-9a60-93105ebe3294",
   "metadata": {},
   "source": [
    "<h3 style=\"color:teal\"> Expected Output: </h3>"
   ]
  },
  {
   "cell_type": "code",
   "execution_count": null,
   "id": "9a4dbd57-4766-4e32-9bd1-ceb1b249551b",
   "metadata": {},
   "outputs": [
    {
     "data": {
      "text/html": [
       "<span style=\"None\">Running query in &#x27;sqlite:///employee_small.db&#x27;</span>"
      ],
      "text/plain": [
       "Running query in 'sqlite:///employee_small.db'"
      ]
     },
     "metadata": {},
     "output_type": "display_data"
    },
    {
     "data": {
      "text/html": [
       "<table>\n",
       "    <thead>\n",
       "        <tr>\n",
       "            <th>employee_id</th>\n",
       "            <th>employee_full_name</th>\n",
       "            <th>hire_date</th>\n",
       "            <th>job_title</th>\n",
       "            <th>salary</th>\n",
       "        </tr>\n",
       "    </thead>\n",
       "    <tbody>\n",
       "        <tr>\n",
       "            <td>100</td>\n",
       "            <td>Steven King</td>\n",
       "            <td>1987-06-17</td>\n",
       "            <td>President</td>\n",
       "            <td>24000.0</td>\n",
       "        </tr>\n",
       "        <tr>\n",
       "            <td>101</td>\n",
       "            <td>Neena Kochhar</td>\n",
       "            <td>1989-09-21</td>\n",
       "            <td>Administration Vice President</td>\n",
       "            <td>17000.0</td>\n",
       "        </tr>\n",
       "        <tr>\n",
       "            <td>102</td>\n",
       "            <td>Lex De Haan</td>\n",
       "            <td>1993-01-13</td>\n",
       "            <td>Administration Vice President</td>\n",
       "            <td>17000.0</td>\n",
       "        </tr>\n",
       "        <tr>\n",
       "            <td>145</td>\n",
       "            <td>John Russell</td>\n",
       "            <td>1996-10-01</td>\n",
       "            <td>Sales Manager</td>\n",
       "            <td>14000.0</td>\n",
       "        </tr>\n",
       "        <tr>\n",
       "            <td>146</td>\n",
       "            <td>Karen Partners</td>\n",
       "            <td>1997-01-05</td>\n",
       "            <td>Sales Manager</td>\n",
       "            <td>13500.0</td>\n",
       "        </tr>\n",
       "        <tr>\n",
       "            <td>201</td>\n",
       "            <td>Michael Hartstein</td>\n",
       "            <td>1996-02-17</td>\n",
       "            <td>Marketing Manager</td>\n",
       "            <td>13000.0</td>\n",
       "        </tr>\n",
       "        <tr>\n",
       "            <td>205</td>\n",
       "            <td>Shelley Higgins</td>\n",
       "            <td>1994-06-07</td>\n",
       "            <td>Accounting Manager</td>\n",
       "            <td>12000.0</td>\n",
       "        </tr>\n",
       "        <tr>\n",
       "            <td>108</td>\n",
       "            <td>Nancy Greenberg</td>\n",
       "            <td>1994-08-17</td>\n",
       "            <td>Finance Manager</td>\n",
       "            <td>12000.0</td>\n",
       "        </tr>\n",
       "        <tr>\n",
       "            <td>114</td>\n",
       "            <td>Den Raphaely</td>\n",
       "            <td>1994-12-07</td>\n",
       "            <td>Purchasing Manager</td>\n",
       "            <td>11000.0</td>\n",
       "        </tr>\n",
       "        <tr>\n",
       "            <td>204</td>\n",
       "            <td>Hermann Baer</td>\n",
       "            <td>1994-06-07</td>\n",
       "            <td>Public Relations Representative</td>\n",
       "            <td>10000.0</td>\n",
       "        </tr>\n",
       "    </tbody>\n",
       "</table>\n",
       "<span style=\"font-style:italic;text-align:center;\">Truncated to <a href=\"https://jupysql.ploomber.io/en/latest/api/configuration.html#displaylimit\">displaylimit</a> of 10.</span>"
      ],
      "text/plain": [
       "+-------------+--------------------+------------+---------------------------------+---------+\n",
       "| employee_id | employee_full_name | hire_date  |            job_title            |  salary |\n",
       "+-------------+--------------------+------------+---------------------------------+---------+\n",
       "|     100     |    Steven King     | 1987-06-17 |            President            | 24000.0 |\n",
       "|     101     |   Neena Kochhar    | 1989-09-21 |  Administration Vice President  | 17000.0 |\n",
       "|     102     |    Lex De Haan     | 1993-01-13 |  Administration Vice President  | 17000.0 |\n",
       "|     145     |    John Russell    | 1996-10-01 |          Sales Manager          | 14000.0 |\n",
       "|     146     |   Karen Partners   | 1997-01-05 |          Sales Manager          | 13500.0 |\n",
       "|     201     | Michael Hartstein  | 1996-02-17 |        Marketing Manager        | 13000.0 |\n",
       "|     205     |  Shelley Higgins   | 1994-06-07 |        Accounting Manager       | 12000.0 |\n",
       "|     108     |  Nancy Greenberg   | 1994-08-17 |         Finance Manager         | 12000.0 |\n",
       "|     114     |    Den Raphaely    | 1994-12-07 |        Purchasing Manager       | 11000.0 |\n",
       "|     204     |    Hermann Baer    | 1994-06-07 | Public Relations Representative | 10000.0 |\n",
       "+-------------+--------------------+------------+---------------------------------+---------+\n",
       "Truncated to displaylimit of 10."
      ]
     },
     "execution_count": 7,
     "metadata": {},
     "output_type": "execute_result"
    }
   ],
   "source": []
  },
  {
   "cell_type": "markdown",
   "id": "8a36fee6-38b8-405e-94f7-fb733f0c90c2",
   "metadata": {},
   "source": [
    "Copy and paste the code into the `submission.yaml` file for Question 6."
   ]
  },
  {
   "cell_type": "markdown",
   "id": "6a3aced3-aaca-4442-9aeb-80eb88a212e3",
   "metadata": {},
   "source": [
    "#### Question 7\n",
    "\n",
    "Write a query that returns the number of employees by region and country but rename the region name **North America** for USA, Canada, and Mexico countries, all other Americas as **South America** then use `region_name` for all others. Include all countries even if they have no employees. Order by the number employees in descending order and then by country name in ascending order.\n",
    "\n",
    "Include updated calculated column `region_name`, column `country_name`, and calculated column `employee_cnt`.\n",
    "\n",
    "<h4 style=\"color:blue\"> Write Your Code Below: </h4>"
   ]
  },
  {
   "cell_type": "code",
   "execution_count": null,
   "id": "1f08f6bc-ed08-4f47-984c-4a089a7c6f1b",
   "metadata": {},
   "outputs": [],
   "source": []
  },
  {
   "cell_type": "markdown",
   "id": "30fe9e88-0b05-4cd0-aa0b-d51442aec5d6",
   "metadata": {},
   "source": [
    "<h3 style=\"color:teal\"> Expected Output: </h3>"
   ]
  },
  {
   "cell_type": "code",
   "execution_count": null,
   "id": "f7061c2d-416c-489f-8a50-48031b52a71e",
   "metadata": {},
   "outputs": [
    {
     "data": {
      "text/html": [
       "<span style=\"None\">Running query in &#x27;sqlite:///employee_small.db&#x27;</span>"
      ],
      "text/plain": [
       "Running query in 'sqlite:///employee_small.db'"
      ]
     },
     "metadata": {},
     "output_type": "display_data"
    },
    {
     "data": {
      "text/html": [
       "<table>\n",
       "    <thead>\n",
       "        <tr>\n",
       "            <th>region</th>\n",
       "            <th>country_name</th>\n",
       "            <th>employee_cnt</th>\n",
       "        </tr>\n",
       "    </thead>\n",
       "    <tbody>\n",
       "        <tr>\n",
       "            <td>North America</td>\n",
       "            <td>United States of America</td>\n",
       "            <td>30</td>\n",
       "        </tr>\n",
       "        <tr>\n",
       "            <td>Europe</td>\n",
       "            <td>United Kingdom</td>\n",
       "            <td>7</td>\n",
       "        </tr>\n",
       "        <tr>\n",
       "            <td>North America</td>\n",
       "            <td>Canada</td>\n",
       "            <td>2</td>\n",
       "        </tr>\n",
       "        <tr>\n",
       "            <td>Europe</td>\n",
       "            <td>Germany</td>\n",
       "            <td>1</td>\n",
       "        </tr>\n",
       "        <tr>\n",
       "            <td>South America</td>\n",
       "            <td>Argentina</td>\n",
       "            <td>0</td>\n",
       "        </tr>\n",
       "        <tr>\n",
       "            <td>Asia</td>\n",
       "            <td>Australia</td>\n",
       "            <td>0</td>\n",
       "        </tr>\n",
       "        <tr>\n",
       "            <td>Europe</td>\n",
       "            <td>Belgium</td>\n",
       "            <td>0</td>\n",
       "        </tr>\n",
       "        <tr>\n",
       "            <td>South America</td>\n",
       "            <td>Brazil</td>\n",
       "            <td>0</td>\n",
       "        </tr>\n",
       "        <tr>\n",
       "            <td>Asia</td>\n",
       "            <td>China</td>\n",
       "            <td>0</td>\n",
       "        </tr>\n",
       "        <tr>\n",
       "            <td>Europe</td>\n",
       "            <td>Denmark</td>\n",
       "            <td>0</td>\n",
       "        </tr>\n",
       "    </tbody>\n",
       "</table>\n",
       "<span style=\"font-style:italic;text-align:center;\">Truncated to <a href=\"https://jupysql.ploomber.io/en/latest/api/configuration.html#displaylimit\">displaylimit</a> of 10.</span>"
      ],
      "text/plain": [
       "+---------------+--------------------------+--------------+\n",
       "|     region    |       country_name       | employee_cnt |\n",
       "+---------------+--------------------------+--------------+\n",
       "| North America | United States of America |      30      |\n",
       "|     Europe    |      United Kingdom      |      7       |\n",
       "| North America |          Canada          |      2       |\n",
       "|     Europe    |         Germany          |      1       |\n",
       "| South America |        Argentina         |      0       |\n",
       "|      Asia     |        Australia         |      0       |\n",
       "|     Europe    |         Belgium          |      0       |\n",
       "| South America |          Brazil          |      0       |\n",
       "|      Asia     |          China           |      0       |\n",
       "|     Europe    |         Denmark          |      0       |\n",
       "+---------------+--------------------------+--------------+\n",
       "Truncated to displaylimit of 10."
      ]
     },
     "execution_count": 8,
     "metadata": {},
     "output_type": "execute_result"
    }
   ],
   "source": []
  },
  {
   "cell_type": "markdown",
   "id": "6132f60d-e0ff-4480-acc9-9e1531defa4f",
   "metadata": {},
   "source": [
    "Copy and paste the code into the `submission.yaml` file for Question 7."
   ]
  },
  {
   "cell_type": "markdown",
   "id": "963256f1-2422-47ff-8dd4-1df061da8be4",
   "metadata": {},
   "source": [
    "#### Question 8\n",
    "\n",
    "Write a query that returns the % of employees that work in North America. Round the percentage to 2 decimal places and express as a percentage but without the % sign. The count calculated fields should be **whole numbers**.\n",
    "\n",
    "Include calculated columns `north_america_employee_cnt`, `total_employee_cnt`, `north_america_employee_pctg`.\n",
    "\n",
    "<h4 style=\"color:blue\"> Write Your Code Below: </h4>"
   ]
  },
  {
   "cell_type": "code",
   "execution_count": null,
   "id": "317e08ac-5c3a-4ce8-b604-61f316878b69",
   "metadata": {},
   "outputs": [],
   "source": []
  },
  {
   "cell_type": "markdown",
   "id": "bd9760a7-d8ca-4876-8f41-26f0530eb2e9",
   "metadata": {},
   "source": [
    "<h3 style=\"color:teal\"> Expected Output: </h3>"
   ]
  },
  {
   "cell_type": "code",
   "execution_count": null,
   "id": "c420484f-a3ab-4ae0-8f2a-ad26da259d9f",
   "metadata": {},
   "outputs": [
    {
     "data": {
      "text/html": [
       "<span style=\"None\">Running query in &#x27;sqlite:///employee_small.db&#x27;</span>"
      ],
      "text/plain": [
       "Running query in 'sqlite:///employee_small.db'"
      ]
     },
     "metadata": {},
     "output_type": "display_data"
    },
    {
     "data": {
      "text/html": [
       "<table>\n",
       "    <thead>\n",
       "        <tr>\n",
       "            <th>north_america_employee_cnt</th>\n",
       "            <th>total_employee_cnt</th>\n",
       "            <th>north_america_employee_pctg</th>\n",
       "        </tr>\n",
       "    </thead>\n",
       "    <tbody>\n",
       "        <tr>\n",
       "            <td>32</td>\n",
       "            <td>40</td>\n",
       "            <td>80.0</td>\n",
       "        </tr>\n",
       "    </tbody>\n",
       "</table>"
      ],
      "text/plain": [
       "+----------------------------+--------------------+-----------------------------+\n",
       "| north_america_employee_cnt | total_employee_cnt | north_america_employee_pctg |\n",
       "+----------------------------+--------------------+-----------------------------+\n",
       "|             32             |         40         |             80.0            |\n",
       "+----------------------------+--------------------+-----------------------------+"
      ]
     },
     "execution_count": 9,
     "metadata": {},
     "output_type": "execute_result"
    }
   ],
   "source": []
  },
  {
   "cell_type": "markdown",
   "id": "414572dc-a659-4637-888b-cded2a84f2e3",
   "metadata": {},
   "source": [
    "Copy and paste the code into the `submission.yaml` file for Question 8."
   ]
  },
  {
   "cell_type": "markdown",
   "id": "b989a4e2-c34e-420d-a49b-ef446dbc0964",
   "metadata": {},
   "source": [
    "#### Question 9\n",
    "\n",
    "Write a query that returns all employees with a salary that is greater than the max salary for Programmers. Order by salary in descending order and then hire date in ascending order.\n",
    "\n",
    "Include columns `employee_id`, calculated field `employee_full_name` in the format first name and last name with a space in between names, as well as columns `hire_date`, `job_title`, `salary`.\n",
    "\n",
    "<h4 style=\"color:blue\"> Write Your Code Below: </h4>"
   ]
  },
  {
   "cell_type": "code",
   "execution_count": null,
   "id": "5b8eb9b1-117f-415a-a9ba-b243b3017d67",
   "metadata": {},
   "outputs": [],
   "source": []
  },
  {
   "cell_type": "markdown",
   "id": "22b6e301-9065-4032-bccc-101ebab15d38",
   "metadata": {},
   "source": [
    "<h3 style=\"color:teal\"> Expected Output: </h3>"
   ]
  },
  {
   "cell_type": "code",
   "execution_count": null,
   "id": "611be8d5-4c33-4f60-bbca-c6ade4a45ce6",
   "metadata": {},
   "outputs": [
    {
     "data": {
      "text/html": [
       "<span style=\"None\">Running query in &#x27;sqlite:///employee_small.db&#x27;</span>"
      ],
      "text/plain": [
       "Running query in 'sqlite:///employee_small.db'"
      ]
     },
     "metadata": {},
     "output_type": "display_data"
    },
    {
     "data": {
      "text/html": [
       "<table>\n",
       "    <thead>\n",
       "        <tr>\n",
       "            <th>employee_id</th>\n",
       "            <th>employee_full_name</th>\n",
       "            <th>hire_date</th>\n",
       "            <th>job_title</th>\n",
       "            <th>salary</th>\n",
       "        </tr>\n",
       "    </thead>\n",
       "    <tbody>\n",
       "        <tr>\n",
       "            <td>100</td>\n",
       "            <td>Steven King</td>\n",
       "            <td>1987-06-17</td>\n",
       "            <td>President</td>\n",
       "            <td>24000.0</td>\n",
       "        </tr>\n",
       "        <tr>\n",
       "            <td>101</td>\n",
       "            <td>Neena Kochhar</td>\n",
       "            <td>1989-09-21</td>\n",
       "            <td>Administration Vice President</td>\n",
       "            <td>17000.0</td>\n",
       "        </tr>\n",
       "        <tr>\n",
       "            <td>102</td>\n",
       "            <td>Lex De Haan</td>\n",
       "            <td>1993-01-13</td>\n",
       "            <td>Administration Vice President</td>\n",
       "            <td>17000.0</td>\n",
       "        </tr>\n",
       "        <tr>\n",
       "            <td>145</td>\n",
       "            <td>John Russell</td>\n",
       "            <td>1996-10-01</td>\n",
       "            <td>Sales Manager</td>\n",
       "            <td>14000.0</td>\n",
       "        </tr>\n",
       "        <tr>\n",
       "            <td>146</td>\n",
       "            <td>Karen Partners</td>\n",
       "            <td>1997-01-05</td>\n",
       "            <td>Sales Manager</td>\n",
       "            <td>13500.0</td>\n",
       "        </tr>\n",
       "        <tr>\n",
       "            <td>201</td>\n",
       "            <td>Michael Hartstein</td>\n",
       "            <td>1996-02-17</td>\n",
       "            <td>Marketing Manager</td>\n",
       "            <td>13000.0</td>\n",
       "        </tr>\n",
       "        <tr>\n",
       "            <td>205</td>\n",
       "            <td>Shelley Higgins</td>\n",
       "            <td>1994-06-07</td>\n",
       "            <td>Accounting Manager</td>\n",
       "            <td>12000.0</td>\n",
       "        </tr>\n",
       "        <tr>\n",
       "            <td>108</td>\n",
       "            <td>Nancy Greenberg</td>\n",
       "            <td>1994-08-17</td>\n",
       "            <td>Finance Manager</td>\n",
       "            <td>12000.0</td>\n",
       "        </tr>\n",
       "        <tr>\n",
       "            <td>114</td>\n",
       "            <td>Den Raphaely</td>\n",
       "            <td>1994-12-07</td>\n",
       "            <td>Purchasing Manager</td>\n",
       "            <td>11000.0</td>\n",
       "        </tr>\n",
       "    </tbody>\n",
       "</table>"
      ],
      "text/plain": [
       "+-------------+--------------------+------------+-------------------------------+---------+\n",
       "| employee_id | employee_full_name | hire_date  |           job_title           |  salary |\n",
       "+-------------+--------------------+------------+-------------------------------+---------+\n",
       "|     100     |    Steven King     | 1987-06-17 |           President           | 24000.0 |\n",
       "|     101     |   Neena Kochhar    | 1989-09-21 | Administration Vice President | 17000.0 |\n",
       "|     102     |    Lex De Haan     | 1993-01-13 | Administration Vice President | 17000.0 |\n",
       "|     145     |    John Russell    | 1996-10-01 |         Sales Manager         | 14000.0 |\n",
       "|     146     |   Karen Partners   | 1997-01-05 |         Sales Manager         | 13500.0 |\n",
       "|     201     | Michael Hartstein  | 1996-02-17 |       Marketing Manager       | 13000.0 |\n",
       "|     205     |  Shelley Higgins   | 1994-06-07 |       Accounting Manager      | 12000.0 |\n",
       "|     108     |  Nancy Greenberg   | 1994-08-17 |        Finance Manager        | 12000.0 |\n",
       "|     114     |    Den Raphaely    | 1994-12-07 |       Purchasing Manager      | 11000.0 |\n",
       "+-------------+--------------------+------------+-------------------------------+---------+"
      ]
     },
     "execution_count": 10,
     "metadata": {},
     "output_type": "execute_result"
    }
   ],
   "source": []
  },
  {
   "cell_type": "markdown",
   "id": "1f94ad80-84d4-499b-a233-4c13a974b3f1",
   "metadata": {},
   "source": [
    "Copy and paste the code into the `submission.yaml` file for Question 9."
   ]
  },
  {
   "attachments": {},
   "cell_type": "markdown",
   "id": "6758f196-4e09-4651-948b-3aa9fbb7ca4d",
   "metadata": {},
   "source": [
    "#### Question 10\n",
    "\n",
    "Write a query that returns all employees with a salary that is less than 50% of their manager that shares the same job title.\n",
    "\n",
    "Include columns `employee_id`, calculated field `employee_full_name` in the format first name and last name with a space in between names, columns `job_title`, `salary`, and calculated column `manager_full_name` in the same format as the employee.\n",
    "\n",
    "<h4 style=\"color:blue\"> Write Your Code Below: </h4>"
   ]
  },
  {
   "cell_type": "code",
   "execution_count": null,
   "id": "6c10f380-ffcb-41fa-88de-836969918428",
   "metadata": {},
   "outputs": [],
   "source": []
  },
  {
   "cell_type": "markdown",
   "id": "a87e4a0c-1f67-4ac4-ba42-e72dedacebaa",
   "metadata": {},
   "source": [
    "<h3 style=\"color:teal\"> Expected Output: </h3>"
   ]
  },
  {
   "cell_type": "code",
   "execution_count": null,
   "id": "75db19e3-0967-42ed-b03c-b2c28c89be60",
   "metadata": {},
   "outputs": [
    {
     "data": {
      "text/html": [
       "<span style=\"None\">Running query in &#x27;sqlite:///employee_small.db&#x27;</span>"
      ],
      "text/plain": [
       "Running query in 'sqlite:///employee_small.db'"
      ]
     },
     "metadata": {},
     "output_type": "display_data"
    },
    {
     "data": {
      "text/html": [
       "<table>\n",
       "    <thead>\n",
       "        <tr>\n",
       "            <th>employee_id</th>\n",
       "            <th>employee_full_name</th>\n",
       "            <th>job_title</th>\n",
       "            <th>salary</th>\n",
       "            <th>manager_full_name</th>\n",
       "        </tr>\n",
       "    </thead>\n",
       "    <tbody>\n",
       "        <tr>\n",
       "            <td>107</td>\n",
       "            <td>Diana Lorentz</td>\n",
       "            <td>Programmer</td>\n",
       "            <td>4200.0</td>\n",
       "            <td>Alexander Hunold</td>\n",
       "        </tr>\n",
       "    </tbody>\n",
       "</table>"
      ],
      "text/plain": [
       "+-------------+--------------------+------------+--------+-------------------+\n",
       "| employee_id | employee_full_name | job_title  | salary | manager_full_name |\n",
       "+-------------+--------------------+------------+--------+-------------------+\n",
       "|     107     |   Diana Lorentz    | Programmer | 4200.0 |  Alexander Hunold |\n",
       "+-------------+--------------------+------------+--------+-------------------+"
      ]
     },
     "execution_count": 11,
     "metadata": {},
     "output_type": "execute_result"
    }
   ],
   "source": []
  },
  {
   "cell_type": "markdown",
   "id": "40ecb303-2632-4864-9e01-b28dec68c789",
   "metadata": {},
   "source": [
    "Copy and paste the code into the `submission.yaml` file for Question 10."
   ]
  },
  {
   "cell_type": "code",
   "execution_count": null,
   "id": "539163ba-fd7b-47f4-bfbb-149dc7923fcb",
   "metadata": {},
   "outputs": [],
   "source": []
  }
 ],
 "metadata": {
  "kernelspec": {
   "display_name": "Python 3 (ipykernel)",
   "language": "python",
   "name": "python3"
  },
  "language_info": {
   "codemirror_mode": {
    "name": "ipython",
    "version": 3
   },
   "file_extension": ".py",
   "mimetype": "text/x-python",
   "name": "python",
   "nbconvert_exporter": "python",
   "pygments_lexer": "ipython3",
   "version": "3.11.9"
  }
 },
 "nbformat": 4,
 "nbformat_minor": 5
}
